{
 "cells": [
  {
   "cell_type": "markdown",
   "metadata": {},
   "source": [
    "### Nesne Temelli Programlama\n",
    "<a href=\"https://imgur.com/G3GibsB\"><img src=\"https://i.imgur.com/G3GibsB.jpg\" title=\"source: imgur.com\" /></a>"
   ]
  },
  {
   "cell_type": "markdown",
   "metadata": {},
   "source": [
    "### Giriş"
   ]
  },
  {
   "cell_type": "markdown",
   "metadata": {},
   "source": [
    "Ancak, NTP'yi bilmek, özellik projelerinizde size daha fazla fırsat ve esneklik sağlayacaktır. NTP'nin yardımıyla, nesneler ve sınıflar arasındaki ilişkileri, kalıtım (inheritance), kapsülleme(encapsulation) ve çok biçimlilik(polymorphism) gibi kavramları daha iyi anlayacaksınız. Ayrıca, PyTorch veya Tensorflow gibi çerçeveler sizi yine de NTP ile yüzleşmeye zorlayacaktır."
   ]
  },
  {
   "cell_type": "markdown",
   "metadata": {},
   "source": [
    "### İçerik\n",
    "- <a href='#1'>1. Python'da Nesne Temelli Programlama</a>\n",
    "    - <a href='#1.1'>1.1 Neden Nesne değil de Örnek?</a>\n",
    "    - <a href='#1.2'>1.2 NTP ile Yapısal Programlama Arasındaki Fark</a>\n",
    "   \n",
    "- <a href='#2'>2. Sınıf ve Nesne Oluşturma</a>\n",
    "    - <a href='#2.1'>2.1 Sınıf Özellikleri, Metodlar ve Alanlar. Farkları Nedir?</a>\n",
    "    - <a href='#2.2'>2.2 Yerleşik Sınıf Özellikleri ve Metodları</a>\n",
    "    - <a href='#2.3'>2.3 Sınıf Özelliklerini Değiştirme</a>\n",
    "    - <a href='#2.4'>2.4 Sınıf Dışında Özellik Oluşturma. Buna Değer mi?</a>\n",
    "    - <a href='#2.5'>2.5 Bu Bölümün Anahtar Noktaları</a>\n",
    "    \n",
    "- <a href='#3'>3. Yapıcılar Yıkıcılar</a>\n",
    "    - <a href='#3.1'>3.1 Yapıcılar. İnşa Etmeye Başlayalım!</a>\n",
    "    - <a href='#3.2'>3.2 Yıkıcılar. Kim Yıkılacak?</a>\n",
    "    - <a href='#3.3'>3.3 Nitelik Oluşturma Kontrolü</a>\n",
    "    - <a href='#3.4'>3.4 Bu Bölümün Anahtar Noktaları</a>\n",
    "    \n",
    "- <a href='#4'>4. Sınıf ve Nesne Nitelikleri. Değişkenlerin Kapsamı</a>\n",
    "    - <a href='#4.1'>4.1 Sınıf ve Nesne Niteliklerine Erişme</a>\n",
    "    - <a href='#4.2'>4.2 Yerel Değişkenler</a>\n",
    "    - <a href='#4.3'>4.3 Global Değişkenler</a>\n",
    "    - <a href='#4.4'>4.4 Bu Bölümün Anahtar Noktaları</a>\n",
    "    \n",
    "- <a href='#5'>5. Kalıtım, Çokbiçimlilik ve Sarmalama</a>\n",
    "    - <a href='#5.1'>5.1 Kalıtım</a>\n",
    "        - <a href='#5.1.1'>5.1.1 Yapıcı Uzantısı</a>\n",
    "        - <a href='#5.1.2'>5.1.2 Metot Uzantısı</a>\n",
    "    - <a href='#5.2'>5.2 Çokbiçimlilik veya Metodu Geçersiz Kılma </a>\n",
    "    - <a href='#5.3'>5.3 Sarmalama</a>\n",
    "        - <a href='#5.3.1'>5.3.1 Erişim Değiştiriciler</a>\n",
    "        - <a href='#5.3.2'>5.3.2 Çocuk Sınıflardan Özel Nitelikleri Çağırma</a>\n",
    "        - <a href='#5.3.3'>5.3.3 Sarmalanmış nitelikleri Alma, Ayarlama ve Silme</a>\n",
    "    - <a href='#5.4'>5.4 Bu Bölümün Anahtar Noktaları</a>\n",
    "            \n",
    "- <a href='#6'>6. Örnek, Sınıf ve Statik Metotlar</a>\n",
    "    - <a href ='#6.1'>6.1 Sınıf Metotları</a>\n",
    "    - <a href ='#6.2'>6.2 Statik Metotlar</a>\n",
    "    - <a href ='#6.3'>6.3 Örnek Metotları</a>\n",
    "    - <a href ='#6.4'>6.4 Bu Bölümün Anahtar Noktaları</a>\n",
    "        \n",
    "- <a href='#7'>7. Metot ve İşlemcileri Aşırı Yüklenmesi (Overloading)</a>\n",
    "    - <a href='#7.1'>7.1 Methot Aşırı Yüklenmesi</a>\n",
    "    - <a href='#7.2'>7.2 İşlemci Aşırı Yüklenmesi</a>\n",
    "    - <a href='#7.3'>7.3 Bu Bölümün Anahtar Noktaları</a>\n",
    "    \n",
    "- <a href='#8'>8. \\*args ve **kwargs</a>\n",
    "    - <a href='#8.1'>8.1 \\*args</a>\n",
    "    - <a href='#8.2'>8.2 **kwargs</a>\n",
    "    - <a href='#8.3'>8.3 Bu Bölümün Anahtar Noktaları</a>\n",
    "    \n",
    "- <a href='#9'>9. Bezeyiciler</a>\n",
    "    - <a href='#9.1'>9.1 Bezeyici Nedir?</a>\n",
    "    - <a href='#9.2'>9.2 Kapanış(closure) Nedir?</a>"
   ]
  },
  {
   "cell_type": "markdown",
   "metadata": {},
   "source": [
    "### <a id=\"1\">1. Python'da Nesne Temelli Programlama</a>\n",
    "\n",
    "NTP nedir?\n",
    "\n",
    "Nesne Tabanlı Programlama (NTP), anahtar kavramların **nesneler (object)** ve **sınıflar (class)** olduğu bir paradigmadır.\n",
    "\n",
    "- **Sınıf**: Basitçe, bir şeyin soyutlaması anlamına gelir (örneğin, dizüstü bilgisayarınızın yerleştirildiği masa bir nesnedir, oysa tüm masaların temsili bir sınıftır)\n",
    "\n",
    "- **Nesne**: Bir nesnedir (ör. Dizüstü bilgisayarım, telefonum veya şişe suyum nesnelerdir)\n",
    "\n",
    "Döngüler, koşullar ve işlevler, karmaşık programların yazılmasına izin vermeyen yapısal programlama öğeleridir. Nesne yönelimli programlama kullanan gelişmiş ve karmaşık sistemler için neredeyse kaçınılmazdır. Python'daki NYP paradigmasını bilmesek bile, bizim tarafımızdan yaratılmamış nesneleri ve sınıfları kullanırız."
   ]
  },
  {
   "cell_type": "markdown",
   "metadata": {},
   "source": [
    "### <a id=\"1.1\">1.1 Neden Nesne değil de Örnek?</a>\n",
    "\n",
    "Bu alanda birkaç kavram olduğunu görmüş olabilirsiniz: **Örnek (instance) ve Nesne(Object).** Peki.. Bu tanımlar arasındaki fark nedir?\n",
    "\n",
    "**Küçük Bir Ayrıntı:**\n",
    "\n",
    "All classes in Python belong to  **one class** that's called **class type**. Thus, lists, tuples, strings and others are objects of **Type class.** In order to avoid mess up a word **instance** is more appropriate for newly created classes. However, these names are interchangeable and both can be used. For better understanding, I've created the following picture:\n",
    "\n",
    "Python'daki tüm sınıflar **sınıf türü(class type)** olarak adlandırılan **bir sınıfa(one class)** aittir. Bu nedenle listeler, çokuzlar, dizgeler ve diğerleri **tür sınıfının(type class)** nesneleridir. Bir kelimeyi karıştırmamak için, **örnek (instance)** kavramı, yeni oluşturulan sınıflar için daha uygun bir kavramdır. Ancak bu kavramlar birbirinin yerine veya her ikisi de kullanılabilir. Daha iyi anlamak için aşağıdaki resme bakalım:\n",
    "\n",
    "<a href=\"https://imgur.com/uLDpX75\"><img src=\"https://i.imgur.com/uLDpX75.png\" title=\"source: imgur.com\" /></a>\n",
    "\n",
    "Above picture depicts that even classes such as Int, Float..Tuple are objects of the **main metaclass Type.** If it's difficult to understand, come back to this chapter later. Just keep in mind that **everything in Python is an object.** For more info, check the link below:\n",
    "\n",
    "Yukarıdaki resim, Int, Float..Çokuz gibi sınıfların bile **ana metasınıf (main metaclass) türünün nesneleri** olduğunu göstermektedir. Anlamak zorsa, bu bölüme daha sonra geri dönün. Python'da, oluşturduğunuz **her şeyin bir nesne olduğunu** unutmayın. Daha fazla bilgi için aşağıdaki bağlantıya bakın:\n",
    "\n",
    "- Meta Sınıflar için Ek Bilgi: https://realpython.com/python-metaclasses/\n",
    "\n",
    "### <a id=\"1.2\">1.2 NTP ile Yapısal Programlama Arasındaki Fark</a>\n",
    "\n",
    "Açık olsa da, bu iki farklı kavram arasındaki farkı anlamamız gerekiyor. Şimdilik şunu söyleyelim:\n",
    "\n",
    "- **Yapısal Programlama (structured programming):** Mantık ve eylem dizisi temel unsurlardır.\n",
    "\n",
    "- **Nesne Temelli Programlama:** Etkileşimli nesnelerden oluşan bir sistem gibi bir programdır."
   ]
  },
  {
   "cell_type": "markdown",
   "metadata": {},
   "source": [
    "### <a id=\"2\">2. Sınıf ve Nesne Oluşturma</a>\n",
    "\n",
    "Bir sınıf ve nesnesini oluşturmanın zor bir tarafı yoktur.\n",
    "\n",
    "- **Sınıflar**, **Class** anahtar kelimesi ile oluşturulmaktadır (örneğin, `class sınıf_adı :`)\n",
    "- **Nesneler**, **aşağıdaki sözdizimine göre** yaratılmaktadır: `nesne_adı = sınıf_adı ()`\n",
    "\n",
    "**Fonksiyonların aksine**, bir **sınıf** çağrıldığında, **kod yürütme yerine bir nesne oluşturulur**. Elbette sadece okumanın pek bir anlamı yok, pratik yapmalıyız. İlk sınıfımızı oluşturalım.\n",
    "\n",
    "**Önemli**\n",
    "\n",
    "Aşağıdaki tüm örnekler sevilen bir bilgisayar oyununa/The Witcher oyununa dayanacaktır. **En sevdiğiniz alanı** bulmanızı öneririz (ör. Oyunlar, sporlar, filmler ...). Kendi örneklerinize NTP uygulayarak konuyu daha iyi anlayacaksınız. Ancak, önce buradaki örnekler üzerinden adım adım ilerleyebilir ve ardından kendi örneklerinizle yeniden uygulayabilirsiniz.\n",
    "\n",
    "Rivia'dan Geralt, The Witcher adlı oyunun ana karakterlerinden biridir. NTP paradigmasında, Geralt sadece bir sınıfın nesnesidir ve elbette başka birçok karakter vardır. Yeni karakterleri (nesneleri) etkili bir şekilde yaratabilmek için özel bir sınıfa ihtiyacımız var. Buna bir isim verelim **OyunKarakteri:**"
   ]
  },
  {
   "cell_type": "code",
   "execution_count": 2,
   "metadata": {},
   "outputs": [
    {
     "name": "stdout",
     "output_type": "stream",
     "text": [
      "<class '__main__.OyunKarakteri'>\n"
     ]
    }
   ],
   "source": [
    "# Boş bir OyunKarakteri sınıfı oluşturalım. Sınıf adı büyük harfle başlamalıdır!\n",
    "class OyunKarakteri:\n",
    "    pass\n",
    "\n",
    "# OyunKarakteri sınıfının bir nesnesini oluşturalım. Geralt, OyunKarakteri sınıfının bir nesnesidir\n",
    "geralt = OyunKarakteri()\n",
    "\n",
    "# Oluşturduğumuz karakterin hangi sınıfa ait olduğunu bulalım\n",
    "print(type(geralt))"
   ]
  },
  {
   "cell_type": "markdown",
   "metadata": {},
   "source": [
    "Şaşırtıcı olmayan bir şekilde, Geralt yeni oluşturulmuş bir sınıf olan OyunKarakteri sınıfına aittir.\n",
    "\n",
    "### <a id=\"2.1\">2.1 Sınıf Özellikleri, Metodlar ve Alanlar. Farkları Nedir?</a>\n",
    "\n",
    "Bir sınıf için çok önemli olan sonraki şey **nitelikler (attributes)/ alanlar(fields) / özellikler(propertise) ve metodlar(methods)**. İlk bakışta kafa karıştırıcı gelebilir. Her şeyi açıklayalım:\n",
    "\n",
    "Her sınıf benzersizdir ve kendi **niteliklerini ve metodlarını** içermelidir:\n",
    "\n",
    "- **Metodlar** sadece **Fonksiyonlardır**\n",
    "- **Alanlar** sadece **Değişkenlerdir** (alanlar için başka bir isim de **özellikler veya özniteliklerdir**. Bu isimler birbirinin yerine kullanılabilir)\n",
    "\n",
    "Bir sınıfın nitelikleri söz konusu olduğunda, bunu belirli özellikler olarak düşünebilirsiniz. Örneğin, kendinizle başlayın ve hangi özelliklere sahip olduğunuzu (ör. Yaş, cinsiyet, saç rengi vb.) Bulmaya çalışın. Kolay değil mi?\n",
    "\n",
    "Bir sınıfa ait tüm nitelikleri önceden tanımlayabilmek için gelecek hikayecisi(future teller) olmanız gerekir. Bazıları açık olabilir ve bazıları olmayabilir ... ama endişelenmeyin, daha sonra kolayca yenilerini ekleyebilirsiniz. Sadece bir sınıf için var olamayacağını bildiğiniz nitelikleri eklemeyin (örneğin bir insanın kuyruğu olamaz ama kim bilir!)\n",
    "\n",
    "**Sınıf özniteliklerine erişmek** için öncelikle o sınıfın bir nesnesine ihtiyacımız var ve sonra aşağıdaki sözdiziminin yardımıyla bir özniteliği çağırmalıyız: `nesne_adı.öznitelik_adı` (buna **nokta notasyonu (dot notation)** denir).\n",
    "\n",
    "Özniteliklerle (örneğin ağırlık, saç rengi, boy ve isim) ve karakterlerin adlarını basitçe ekrana yazdıracak bir metodla Vesimir karakteri (başka bir witcher) oluşturalım."
   ]
  },
  {
   "cell_type": "code",
   "execution_count": 9,
   "metadata": {},
   "outputs": [
    {
     "name": "stdout",
     "output_type": "stream",
     "text": [
      "Vesimir'in İsmi:  Vesimir\n",
      "Vesimir'in Saç Rengi:  Gri\n"
     ]
    },
    {
     "ename": "TypeError",
     "evalue": "isim_yaz() takes 0 positional arguments but 1 was given",
     "output_type": "error",
     "traceback": [
      "\u001b[1;31m---------------------------------------------------------------------------\u001b[0m",
      "\u001b[1;31mTypeError\u001b[0m                                 Traceback (most recent call last)",
      "\u001b[1;32m<ipython-input-9-a8a85ee3f67c>\u001b[0m in \u001b[0;36m<module>\u001b[1;34m\u001b[0m\n\u001b[0;32m     17\u001b[0m \u001b[0mprint\u001b[0m\u001b[1;33m(\u001b[0m\u001b[1;34m\"Vesimir'in İsmi: \"\u001b[0m \u001b[1;33m,\u001b[0m \u001b[0mvesimir\u001b[0m\u001b[1;33m.\u001b[0m\u001b[0misim\u001b[0m\u001b[1;33m)\u001b[0m\u001b[1;33m\u001b[0m\u001b[1;33m\u001b[0m\u001b[0m\n\u001b[0;32m     18\u001b[0m \u001b[0mprint\u001b[0m\u001b[1;33m(\u001b[0m\u001b[1;34m\"Vesimir'in Saç Rengi: \"\u001b[0m\u001b[1;33m,\u001b[0m \u001b[0mvesimir\u001b[0m\u001b[1;33m.\u001b[0m\u001b[0msaç_rengi\u001b[0m\u001b[1;33m)\u001b[0m\u001b[1;33m\u001b[0m\u001b[1;33m\u001b[0m\u001b[0m\n\u001b[1;32m---> 19\u001b[1;33m \u001b[0mprint\u001b[0m\u001b[1;33m(\u001b[0m\u001b[1;34m\"Vesimir diyor ki: \"\u001b[0m\u001b[1;33m,\u001b[0m \u001b[0mvesimir\u001b[0m\u001b[1;33m.\u001b[0m\u001b[0misim_yaz\u001b[0m\u001b[1;33m(\u001b[0m\u001b[1;33m)\u001b[0m\u001b[1;33m)\u001b[0m\u001b[1;33m\u001b[0m\u001b[1;33m\u001b[0m\u001b[0m\n\u001b[0m",
      "\u001b[1;31mTypeError\u001b[0m: isim_yaz() takes 0 positional arguments but 1 was given"
     ]
    }
   ],
   "source": [
    "class OyunKarakteri:\n",
    "    \n",
    "    # İlk olarak sınıf niteliklerini oluşturalım\n",
    "    ağırlık = 90 \n",
    "    saç_rengi = 'Gri'\n",
    "    boy = 180\n",
    "    isim = 'Vesimir'\n",
    "    \n",
    "    # Karakterlerin adlarını yazdırmak için bir metod(fonksiyon) tanımlaylım\n",
    "    def isim_yaz():\n",
    "        print(f'Merhaba, Benim ismim {OyunKarakteri.isim}')\n",
    "\n",
    "# nesne oluşturma\n",
    "vesimir = OyunKarakteri()\n",
    "\n",
    "# Nokta gösterimini kullanarak nesne niteliklerine erişme\n",
    "print(\"Vesimir'in İsmi: \" , vesimir.isim)\n",
    "print(\"Vesimir'in Saç Rengi: \", vesimir.saç_rengi)\n",
    "print(\"Vesimir diyor ki: \", vesimir.isim_yaz())"
   ]
  },
  {
   "cell_type": "markdown",
   "metadata": {},
   "source": [
    "### Hatalardan Başarıya!\n",
    "\n",
    "Hata yapmaktan korkmayın. Hata yapın! Ne kadar çok hata yaparsanız, o kadar iyidir ve her zaman kodu deneyin. Kodu yeniden yazarsanız veya mantığı değiştirirseniz ne olacağını düşünmeye çalışın. Başka bir deyişle, başarılı kodlama için deneyler en iyi yoldur.\n",
    "\n",
    "### Neden Hata Aldık?\n",
    "\n",
    "Hata mesajı, metodun 0 parametre aldığını söylüyor, ancak bir tane sağladık. Peki bu nasıl olur? Daha yakından bakalım. Bunun nedeni, bir nesneyi tanımladığımızda, özniteliklerinin ve metodlarının yalnızca miras *alınabilen (inherited)* **birçok nesnenin** kendi sınıfında bulunabilmesidir. Bu nedenle, bir metod çağrıldığında, daha sonra işlenecek olan bir argüman olarak **belirli bir nesneyi almalıdır**. Mantık şu şekilde tanımlanabilir:\n",
    "\n",
    " 1. Vesimir nesnesinin isim_yaz metodunu ara -> bulunamıyor\n",
    " 2. OyunKarakteri sınıfındaki metodu ara -> bulunur;\n",
    " 3. Mevcut nesneyi metodlara aktar, başka bir deyişle isim_yaz(vesemir);\n",
    " 4. Ancak isim_yaz metodu herhangi bir parametre almaz, bu nedenle bir hata oluşur\n",
    "\n",
    "Nesneler ve metodlar arasında bir bağlantı olarak, **self** anahtar kelimesi kullanılır."
   ]
  },
  {
   "cell_type": "code",
   "execution_count": 8,
   "metadata": {},
   "outputs": [
    {
     "name": "stdout",
     "output_type": "stream",
     "text": [
      "Vesimir'in İsmi:  Vesimir\n",
      "Vesimir'in Saç Rengi:  Gri\n",
      "Merhaba, Benim ismim Vesimir\n",
      "Vesimir diyor ki:  None\n"
     ]
    }
   ],
   "source": [
    "class OyunKarakteri:\n",
    "    \n",
    "    # İlk olarak sınıf niteliklerini oluşturalım\n",
    "    ağırlık = 90 \n",
    "    saç_rengi = 'Gri'\n",
    "    boy = 180\n",
    "    isim = 'Vesimir'\n",
    "    \n",
    "    # Bu kez self parametresini ekleyelim\n",
    "    def isim_yaz(self):\n",
    "        print(f'Merhaba, Benim ismim {OyunKarakteri.isim}')\n",
    "\n",
    "# nesne oluşturma\n",
    "vesimir = OyunKarakteri()\n",
    "\n",
    "# Nokta gösterimini kullanarak nesne niteliklerine erişme\n",
    "print(\"Vesimir'in İsmi: \" , vesimir.isim)\n",
    "print(\"Vesimir'in Saç Rengi: \", vesimir.saç_rengi)\n",
    "print(\"Vesimir diyor ki: \", vesimir.isim_yaz())"
   ]
  },
  {
   "cell_type": "markdown",
   "metadata": {},
   "source": [
    "Şimdi her şey yolunda görünüyor. Her yeni nesne **self anahtar kelimesi** yardımıyla bir metodla ilişkilendirilecek ve artık hata oluşmayacaktır. Harika!!!\n",
    "\n",
    "Bu arada Vesemir'in neden `None` dediğini biliyor musunuz? Bunun nedeni, **isim_yaz()** fonksiyonunun hiçbir şey döndürmemesi, **dolayısıyla `None` döndürmesidir.**\n",
    "\n",
    "### <a id=\"2.2\">2.2 Yerleşik Sınıf Özellikleri ve Metodları</a>\n",
    "\n",
    "Her sınıf için önceden tanımlanmış (yerleşik) nitelikler ve metodlar vardır.\n",
    "\n",
    "- **Yerleşik Nitelikler:**\n",
    "    - \\_\\_name__ - sınıf ismi döndürür;\n",
    "    - \\_\\_doc__ - sınıf tanımı döndürür (dökümantasyon);\n",
    "    - \\_\\_dict__ - bir nesne / sınıf için yerel değişkenlerin (özniteliklerin) sözlüğünü döndürür;\n",
    "    \n",
    "- **Yerleşik Fonksiyonlar:**\n",
    "    - getattr(obj, 'name') - bir nesnenin nitelik değerini döndürür;\n",
    "    - setattr(obj, 'name', value) - bir nitelik için yeni bir değer belirler;\n",
    "    - delattr(obj, 'name') - bir niteliği siler; \n",
    "    - hasattr(obj, 'name') - bir nesnenin bir niteliği olup olmadığını kontrol eder; \n",
    "    - dir(obj or a class) - bir nesne veya sınıf için tam bir nitelik kümesi döndürür;\n",
    "    - isinstance(obj, class) - bir nesnenin belirli bir sınıfın örneği olup olmadığını kontrol eder"
   ]
  },
  {
   "cell_type": "code",
   "execution_count": 7,
   "metadata": {},
   "outputs": [
    {
     "name": "stdout",
     "output_type": "stream",
     "text": [
      "Sınıf ismi:  OyunKarakteri\n",
      "Sınıf tanımı:  None\n",
      "Sınıfın tüm yerel değişkenleri:  {'__module__': '__main__', 'ağırlık': 90, 'saç_rengi': 'Gri', 'uzunluk': 180, 'isim': 'Vesimir', 'isim_yaz': <function OyunKarakteri.isim_yaz at 0x00000215D7A6C158>, '__dict__': <attribute '__dict__' of 'OyunKarakteri' objects>, '__weakref__': <attribute '__weakref__' of 'OyunKarakteri' objects>, '__doc__': None}\n",
      "Nesnenin tüm yerel değişkenleri:  {}\n"
     ]
    }
   ],
   "source": [
    "# Yerleşik nitelikleri görelim:\n",
    "print('Sınıf ismi: ', OyunKarakteri.__name__)\n",
    "print('Sınıf tanımı: ', OyunKarakteri.__doc__)\n",
    "print('Sınıfın tüm yerel değişkenleri: ', OyunKarakteri.__dict__)\n",
    "print('Nesnenin tüm yerel değişkenleri: ', vesimir.__dict__)"
   ]
  },
  {
   "cell_type": "markdown",
   "metadata": {},
   "source": [
    "Burada vesimir nesnesinin herhangi bir yerel niteliğe sahip olmadığını görebiliriz ve bu doğrudur. Yalnızca OyunKarakteri sınıfı yerel niteliklere sahiptir. Bir nesnenin yerel değişkenlerini tanımlamak için ya bir *kurucu(constructor)* tanımlamalıyız (daha sonra ele alınacaktır) ya da nesne niteliklerini açıkça atamalıyız. Örneğin, aşağıda yeni bir nitelik değeri olarak ağırlığı belirledik ve yalnızca bu niteliği silebiliriz çünkü diğer nitelikler yalnızca sınıf için mevcuttur. Ancak bunlara nesne üzerinden erişilebilir. Aklınızda bulunsun!"
   ]
  },
  {
   "cell_type": "code",
   "execution_count": 11,
   "metadata": {},
   "outputs": [
    {
     "name": "stdout",
     "output_type": "stream",
     "text": [
      "Vesimir'in Boyu:  180\n",
      "Vesimir'in ağırlığına yeni bir değer atama:  None\n",
      "Vesimir'in yeni ağırlığı:  85\n",
      "Vesimir in saç_rengi isminde bir niteliği var mı:  True\n",
      "Vesimir OyunKarakteri Sınıfına mı ait:  True\n"
     ]
    }
   ],
   "source": [
    "# Yerleşik metodları görelim:\n",
    "print(\"Vesimir'in Boyu: \", getattr(vesimir, 'boy'))\n",
    "\n",
    "print(\"Vesimir'in ağırlığına yeni bir değer atama: \", setattr(vesimir, 'ağırlık', 85))\n",
    "print(\"Vesimir'in yeni ağırlığı: \", getattr(vesimir, 'ağırlık'))\n",
    "\n",
    "print('Vesimir in saç_rengi isminde bir niteliği var mı: ', hasattr(vesimir, 'saç_rengi'))\n",
    "#print('saç_rengi niteliğini silme: ', delattr(vesimir, 'saç_rengi'))\n",
    "\n",
    "print('Vesimir OyunKarakteri Sınıfına mı ait: ', isinstance(vesimir, OyunKarakteri))"
   ]
  },
  {
   "cell_type": "markdown",
   "metadata": {
    "papermill": {
     "duration": 0.091319,
     "end_time": "2020-10-27T06:55:55.047410",
     "exception": false,
     "start_time": "2020-10-27T06:55:54.956091",
     "status": "completed"
    },
    "tags": []
   },
   "source": [
    "### <a id=\"2.3\">2.3 Sınıf Özelliklerini Değiştirme</a>\n",
    "\n",
    "**Bir sınıfın her bir niteliği kolayca değiştirilebilir.** Tek ihtiyacımız olan belirli bir niteliğe erişmek ve yeni bir değer atamaktır. **ağırlık:** niteliğini değiştirerek bunu gösterelim"
   ]
  },
  {
   "cell_type": "code",
   "execution_count": 12,
   "metadata": {
    "execution": {
     "iopub.execute_input": "2020-10-27T06:55:55.236174Z",
     "iopub.status.busy": "2020-10-27T06:55:55.235310Z",
     "iopub.status.idle": "2020-10-27T06:55:55.239830Z",
     "shell.execute_reply": "2020-10-27T06:55:55.238506Z"
    },
    "papermill": {
     "duration": 0.100361,
     "end_time": "2020-10-27T06:55:55.239982",
     "exception": false,
     "start_time": "2020-10-27T06:55:55.139621",
     "status": "completed"
    },
    "tags": []
   },
   "outputs": [
    {
     "name": "stdout",
     "output_type": "stream",
     "text": [
      "1 hafta önce Vesimir'in ağırlığı:  85\n",
      "Vesimir'in şimdiki ağırlığı:  100\n"
     ]
    }
   ],
   "source": [
    "# 1 hafta önce Vesimir'in ağırlığı\n",
    "print(\"1 hafta önce Vesimir'in ağırlığı: \", vesimir.ağırlık)\n",
    "\n",
    "# Ağırlık değerini değiştirelim\n",
    "vesimir.ağırlık = 100\n",
    "print(\"Vesimir'in şimdiki ağırlığı: \", vesimir.ağırlık)"
   ]
  },
  {
   "cell_type": "markdown",
   "metadata": {
    "papermill": {
     "duration": 0.089899,
     "end_time": "2020-10-27T06:55:55.420931",
     "exception": false,
     "start_time": "2020-10-27T06:55:55.331032",
     "status": "completed"
    },
    "tags": []
   },
   "source": [
    "### <a id=\"2.4\">2.4 Sınıf Dışında Özellik Oluşturma. Buna Değer mi?</a> \n",
    "\n",
    "Sadece mevcut öznitelik değerlerini değiştiremez, yenilerini de yaratabiliriz. Bununla birlikte, bu yöntem, sisteme kaos getirdiği için tavsiye edilmez (yani aynı sınıftaki nesneler nitelikler açısından farklı olacaktır)"
   ]
  },
  {
   "cell_type": "code",
   "execution_count": 13,
   "metadata": {
    "execution": {
     "iopub.execute_input": "2020-10-27T06:55:55.616488Z",
     "iopub.status.busy": "2020-10-27T06:55:55.615416Z",
     "iopub.status.idle": "2020-10-27T06:55:55.619944Z",
     "shell.execute_reply": "2020-10-27T06:55:55.619267Z"
    },
    "papermill": {
     "duration": 0.10246,
     "end_time": "2020-10-27T06:55:55.620078",
     "exception": false,
     "start_time": "2020-10-27T06:55:55.517618",
     "status": "completed"
    },
    "tags": []
   },
   "outputs": [
    {
     "name": "stdout",
     "output_type": "stream",
     "text": [
      "Vesimir in atı var mı?:  True\n"
     ]
    }
   ],
   "source": [
    "# yeni bir mantıksal nitelik ekleyelim: atı_var_mı\n",
    "vesimir.atı_var_mı = True\n",
    "\n",
    "print('Vesimir in atı var mı?: ', vesimir.atı_var_mı)\n",
    "# Daha önce sınıfta tanımlanmamış olsa da yeni niteliği tanımladık."
   ]
  },
  {
   "cell_type": "markdown",
   "metadata": {
    "papermill": {
     "duration": 0.091835,
     "end_time": "2020-10-27T06:55:55.809616",
     "exception": false,
     "start_time": "2020-10-27T06:55:55.717781",
     "status": "completed"
    },
    "tags": []
   },
   "source": [
    "### <a id=\"2.5\">2.5 Bu Bölümün Anahtar Noktaları</a>\n",
    "\n",
    "- **Nitelikler (Attributes)** değişkenlerdir;\n",
    "- **Metodlar (Methods)** fonksiyonlardır;\n",
    "- Nitelikler ve metodlar **nokta notasyonu (dot notation)** kullanılarak çağrılır;\n",
    "- **self** argümanı metodlar ve nesneler arasındaki bağlantıdır;\n",
    "- Bir metod bir nesneyi almazsa, bu **statik metoddur;**\n",
    "- Statik yöntemler özel bir bezeyici(decorator) kullanılarak çağrılır (<a href='#9.a'>9. Bezeyiciler</a>) **@static method;** \n",
    "- Bir sınıfta tanımlanmamış yeni nitelikler oluşturulabilir. Ancak bu, tutarsızlığa yol açar."
   ]
  },
  {
   "cell_type": "markdown",
   "metadata": {},
   "source": [
    "### <a id=\"3\">3. Yapıcılar Yıkıcılar</a>\n",
    "\n",
    "### <a id=\"3.1\">3.1 Yapıcılar. İnşa Etmeye Başlayalım!</a>\n",
    "\n",
    "Bir sınıfın niteliklerine artık aşinayız. İstediğimiz kadar yeni nesne inşa edebiliriz ama burada bir sorunla karşı karşıyayız. Nesneler bir sınıfa ait olsalar da, nitelik değerleri açısından farklı olacaktır. Önceki uygulamamıza bakarsak, tüm niteliklerin önceden tanımlanmış olduğunu ve bir nesneyi başlatırken onları değiştiremeyeceğimizi fark edebiliriz. Bu durum rahatsızlık vericidir ve birçok sorun yaratır.\n",
    "\n",
    "Peki, neden bir sınıfta nitelikleri değiştirmek/başlatmak için özel bir metot tanımlamayalım? İyi bir fikir gibi görünüyor. Haydi uygulayalım!"
   ]
  },
  {
   "cell_type": "code",
   "execution_count": 14,
   "metadata": {},
   "outputs": [
    {
     "name": "stdout",
     "output_type": "stream",
     "text": [
      "Vesimir'in ismi: Vesimir\n",
      "Vesimir'in ağırlığı: 100\n",
      "\n",
      "\n",
      "Geralt'in ismi: Geralt\n",
      "Geralt'ın ağırlığı: 90\n"
     ]
    }
   ],
   "source": [
    "class OyunKarakteri:\n",
    "    \n",
    "    # Nitelik değerlerini ayarlama / başlatma yöntemi\n",
    "    def nitelik_ayarla(self, isim, ağırlık):\n",
    "        self.isim = isim\n",
    "        self.ağırlık = ağırlık\n",
    "\n",
    "# Herhangi bir nitelik olmadan Vesimir ve Geralt karakterlerinin oluşturulması\n",
    "vesimir = OyunKarakteri()\n",
    "geralt = OyunKarakteri()\n",
    "\n",
    "# Vesimir ve Geralt için nitelikleri ayarlama\n",
    "vesimir.nitelik_ayarla(isim= 'Vesimir', ağırlık= 100)\n",
    "geralt.nitelik_ayarla(isim= 'Geralt', ağırlık= 90)\n",
    "\n",
    "# Nesnelerin niteliklerini bulalım\n",
    "print(f\"Vesimir'in ismi: {vesimir.isim}\\nVesimir'in ağırlığı: {vesimir.ağırlık}\")\n",
    "print('\\n')\n",
    "print(f\"Geralt'in ismi: {geralt.isim}\\nGeralt'ın ağırlığı: {geralt.ağırlık}\")"
   ]
  },
  {
   "cell_type": "markdown",
   "metadata": {},
   "source": [
    "**nitelik_ayarla()** metodu, nesneler için nitelik değerlerinin ayarlanmasını sağlar. Ne yazık ki, yeni bir nesne oluşturduğumuzda her seferinde **bu metodu çağırmak zorundayız.** Neyse ki, Python'da bu durumda **yapıcı (constructor)** olarak adlandırılan özel bir yöntem var.\n",
    "\n",
    "Yapıcı, bir nesne oluşturulurken otomatik olarak çağrılan bir metottur. Ayrıca, bu bir **özel metottur** ve aşağıdaki sözdizimine sahiptir **\\_\\_init__(self, params)**\n",
    "\n",
    "Python'da **alt çizgili** metotlar, **aşırı yükleme (overloading) veya sihirli metotlar** adı verilen **özel bir metot grubuna** aittir. Bu yöntemleri açıkça çağırmak zorunda değiliz, bir nesne bir eylemde yer aldığında **otomatik olarak çağrılırlar** (örneğin, bir nesne oluşturulurken **\\_\\_init__()** metodu çağrılır ve derlenir; bu önceden tanımlanmış özelliklere sahip bir nesnedir)\n",
    "\n",
    "OyunKarakteri sınıfı için bir yapıcı tanımlayalım:"
   ]
  },
  {
   "cell_type": "code",
   "execution_count": 15,
   "metadata": {},
   "outputs": [
    {
     "name": "stdout",
     "output_type": "stream",
     "text": [
      "Vesimir'in ismi: Vesimir\n",
      "Vesimir'in ağırlığı: 100\n",
      "\n",
      "\n",
      "Geralt'in ismi: Geralt\n",
      "Geralt'ın ağırlığı: 90\n",
      "\n",
      "\n",
      "Ciri'nin ismi: Ciri\n",
      "Ciri'nin ağırlığı: 95\n"
     ]
    }
   ],
   "source": [
    "class OyunKarakteri:\n",
    "    \n",
    "    # # Sınıfın yapıcısını oluşturalım. \n",
    "    # Basit olması için sadece isim ve ağırlık \n",
    "    # niteliklerini oluşturalım\n",
    "    def __init__(self, isim, ağırlık):\n",
    "        self.isim = isim\n",
    "        self.ağırlık = ağırlık\n",
    "        \n",
    "# Yukarıda yapıcı metodunu oluşturduk.\n",
    "# Bir nesne oluşturulurken otomatik olarak çağrılacaktır.\n",
    "# Yapılacak son şey, bir nesne oluştururken yalnızca argümanları numaralandırmaktır\n",
    "\n",
    "# Herhangi bir nitelik olmadan Vesimir ve Geralt karakterlerinin oluşturulması\n",
    "vesimir = OyunKarakteri(isim= 'Vesimir', ağırlık= 100)\n",
    "geralt = OyunKarakteri(isim= 'Geralt', ağırlık= 90)\n",
    "ciri = OyunKarakteri(isim= 'Ciri', ağırlık= 95)\n",
    "\n",
    "# Nesnelerin niteliklerini bulalım\n",
    "print(f\"Vesimir'in ismi: {vesimir.isim}\\nVesimir'in ağırlığı: {vesimir.ağırlık}\")\n",
    "print('\\n')\n",
    "print(f\"Geralt'in ismi: {geralt.isim}\\nGeralt'ın ağırlığı: {geralt.ağırlık}\")\n",
    "print('\\n')\n",
    "print(f\"Ciri'nin ismi: {ciri.isim}\\nCiri'nin ağırlığı: {ciri.ağırlık}\")"
   ]
  },
  {
   "cell_type": "markdown",
   "metadata": {},
   "source": [
    "Başarıyla 3 ana oyun karakteri oluşturduk: Ciri, Geralt ve Vesimir. Onları sadece oluşturmadık, niteliklerini de tanımladık. Bir metotta **varsayılan bağımsız değişkenler** tanımlayabileceğinizi hatırlayın. Bu durumda, bir metoda yalnızca zorunlu bağımsız değişkenleri iletmeniz gerekir, **varsayılan değerler atlanabilir**."
   ]
  },
  {
   "cell_type": "code",
   "execution_count": 18,
   "metadata": {},
   "outputs": [
    {
     "name": "stdout",
     "output_type": "stream",
     "text": [
      "Vesimir'in ağırlığı:  90\n"
     ]
    }
   ],
   "source": [
    "class OyunKarakteri:\n",
    "    \n",
    "    # # Sınıfın yapıcısını oluşturalım. \n",
    "    # Basit olması için sadece isim ve ağırlık \n",
    "    # niteliklerini oluşturalım\n",
    "    def __init__(self, isim, saç_rengi, ağırlık=90):\n",
    "        self.isim = isim\n",
    "        self.ağırlık = ağırlık\n",
    "        self.saç_rengi = saç_rengi\n",
    "        \n",
    "vesimir = OyunKarakteri(isim='Vesimir', saç_rengi='Gri')\n",
    "print(\"Vesimir'in ağırlığı: \", vesimir.ağırlık)"
   ]
  },
  {
   "cell_type": "markdown",
   "metadata": {},
   "source": [
    "Ama burada birkaç kelime daha söyleyelim. Aslında, **\\_\\_init__()** bir sınıfın kurucusu değildir, sadece yaratılan nesneleri başlatır.\n",
    "\n",
    "**Nesneler \\_\\_new__()**yöntemiyle oluşturuluyor**\n",
    "\n",
    "Daha fazla bilgi için şu makaleye bakın: https://spyhce.com/blog/understanding-new-and-init"
   ]
  },
  {
   "cell_type": "markdown",
   "metadata": {},
   "source": [
    "### <a id=\"3.2\">3.2 Yıkıcılar. Kim Yıkılacak?</a>\n",
    "\n",
    "Açıktır ki eğer yapabilirsek, aynı şekilde yıkabiliriz de. Python'da bu amaç için özel bir yöntem vardır.\n",
    "\n",
    "**\\_\\_del__()** özel bir metottur ve nesneleri silmeye yarar (yani sınıfın yıkıcısıdır)"
   ]
  },
  {
   "cell_type": "code",
   "execution_count": 19,
   "metadata": {},
   "outputs": [],
   "source": [
    "class OyunKarakteri:\n",
    "    \n",
    "    # # Sınıfın yapıcısını oluşturalım. \n",
    "    # Basit olması için sadece isim ve ağırlık \n",
    "    # niteliklerini oluşturalım\n",
    "    def __init__(self, isim, saç_rengi, ağırlık=90):\n",
    "        self.isim = isim\n",
    "        self.ağırlık = ağırlık\n",
    "        self.saç_rengi = saç_rengi\n",
    "    \n",
    "    # Sınıfın yıkıcısını oluşturalım\n",
    "    def __del__(self):\n",
    "        print(f'Oyun Karakteri {self.isim} Silindi')\n",
    "        \n",
    "geralt = OyunKarakteri(isim = 'Geralt', saç_rengi= 'Beyaz', ağırlık= 80)\n",
    "vesimir = OyunKarakteri(isim= 'Vesimir', saç_rengi= 'Gri', ağırlık= 90)"
   ]
  },
  {
   "cell_type": "code",
   "execution_count": 20,
   "metadata": {},
   "outputs": [],
   "source": [
    "# Vesimir'i silelim\n",
    "del vesimir "
   ]
  },
  {
   "cell_type": "markdown",
   "metadata": {},
   "source": [
    "Sınıfın yapıcı ve yıkıcı yöntemlerini tanımladık. Zaten bildiğimiz gibi, alt çizgi içeren yöntemler özeldir ve bir nesne belirli bir işlemde yer aldığında otomatik olarak çağrılırlar (örneğin, nesne oluşturma - **\\_\\_init__()**, nesne silme - **\\_\\_del__( )**).\n",
    "\n",
    "Yukarıdaki oyun karakteri Vesimir'i sildik ve artık nesneye erişemiyoruz. Bir göz atalım:"
   ]
  },
  {
   "cell_type": "code",
   "execution_count": 21,
   "metadata": {
    "execution": {
     "iopub.execute_input": "2020-10-27T06:55:57.650552Z",
     "iopub.status.busy": "2020-10-27T06:55:57.649512Z",
     "iopub.status.idle": "2020-10-27T06:55:57.653504Z",
     "shell.execute_reply": "2020-10-27T06:55:57.654130Z"
    },
    "papermill": {
     "duration": 0.107961,
     "end_time": "2020-10-27T06:55:57.654325",
     "exception": false,
     "start_time": "2020-10-27T06:55:57.546364",
     "status": "completed"
    },
    "tags": []
   },
   "outputs": [
    {
     "data": {
      "text/plain": [
       "'Beyaz'"
      ]
     },
     "execution_count": 21,
     "metadata": {},
     "output_type": "execute_result"
    }
   ],
   "source": [
    "# Geralt hala duruyor\n",
    "geralt.saç_rengi"
   ]
  },
  {
   "cell_type": "code",
   "execution_count": 22,
   "metadata": {
    "execution": {
     "iopub.execute_input": "2020-10-27T06:55:57.867300Z",
     "iopub.status.busy": "2020-10-27T06:55:57.865839Z",
     "iopub.status.idle": "2020-10-27T06:55:57.873316Z",
     "shell.execute_reply": "2020-10-27T06:55:57.872626Z"
    },
    "papermill": {
     "duration": 0.122736,
     "end_time": "2020-10-27T06:55:57.873451",
     "exception": false,
     "start_time": "2020-10-27T06:55:57.750715",
     "status": "completed"
    },
    "tags": []
   },
   "outputs": [
    {
     "ename": "NameError",
     "evalue": "name 'vesimir' is not defined",
     "output_type": "error",
     "traceback": [
      "\u001b[1;31m---------------------------------------------------------------------------\u001b[0m",
      "\u001b[1;31mNameError\u001b[0m                                 Traceback (most recent call last)",
      "\u001b[1;32m<ipython-input-22-2e7d5fd36b9f>\u001b[0m in \u001b[0;36m<module>\u001b[1;34m\u001b[0m\n\u001b[0;32m      1\u001b[0m \u001b[1;31m# Fakat, Vesimir artık yok.\u001b[0m\u001b[1;33m\u001b[0m\u001b[1;33m\u001b[0m\u001b[1;33m\u001b[0m\u001b[0m\n\u001b[0;32m      2\u001b[0m \u001b[1;31m# Vesimir nesnesini çağırırsak:\u001b[0m\u001b[1;33m\u001b[0m\u001b[1;33m\u001b[0m\u001b[1;33m\u001b[0m\u001b[0m\n\u001b[1;32m----> 3\u001b[1;33m \u001b[0mvesimir\u001b[0m\u001b[1;33m\u001b[0m\u001b[1;33m\u001b[0m\u001b[0m\n\u001b[0m",
      "\u001b[1;31mNameError\u001b[0m: name 'vesimir' is not defined"
     ]
    }
   ],
   "source": [
    "# Fakat, Vesimir artık yok.\n",
    "# Vesimir nesnesini çağırırsak:\n",
    "vesimir"
   ]
  },
  {
   "cell_type": "markdown",
   "metadata": {},
   "source": [
    "### <a id=\"3.3\">3.3 Nitelik Oluşturma Kontrolü</a>\n",
    "\n",
    "Bir sınıfta açıkça tanımlamamış olsak da yeni niteliklerin yaratılabileceğini artık biliyoruz.\n",
    "\n",
    "Bir sınıfta tam olarak hangi niteliklerin oluşturulabileceğini kontrol etmek mümkün müdür?\n",
    "\n",
    "Evet! Böyle bir durumda **\\_\\_slots__** niteliği devreye girer. Nitelikleri kontrol eder ve bazı nitelikler **\\_\\_slots__** 'da tanımlanmamışsa, bir hata oluşur ve yeni nitelikler oluşturulmaz. Sonuç olarak, bir sınıftaki nitelikler daha tutarlı olacaktır.\n",
    "\n",
    "Örneğimize bakalım:"
   ]
  },
  {
   "cell_type": "code",
   "execution_count": 23,
   "metadata": {},
   "outputs": [
    {
     "data": {
      "text/plain": [
       "'Beyaz'"
      ]
     },
     "execution_count": 23,
     "metadata": {},
     "output_type": "execute_result"
    }
   ],
   "source": [
    "# Bir sınıfta tanımlanmayan yeni öznitelikler oluşturmayı kullanımdan kaldıralım\n",
    "class OyunKarakteri:\n",
    "    \n",
    "    # Burada sadece belirli özelliklerin oluşturulmasına izin veriyoruz\n",
    "    __slots__ = ('isim', 'saç_rengi', 'boy')\n",
    "    \n",
    "    # Yapıcı \n",
    "    def __init__(self, isim, saç_rengi, boy):\n",
    "        self.isim = isim\n",
    "        self.saç_rengi = saç_rengi\n",
    "        self.boy = boy   \n",
    "           \n",
    "# İzin verilen özniteliği çağıralım\n",
    "geralt = OyunKarakteri(isim = 'Geralt', saç_rengi='Beyaz', boy = 180)\n",
    "geralt.saç_rengi"
   ]
  },
  {
   "cell_type": "markdown",
   "metadata": {},
   "source": [
    "**__slots__**, yeni niteliklere izin verilip verilmediğini kontrol eder. Belirli bir niteliğe izin veriliyorsa, bir nitelik oluşturulur, aksi takdirde oluşturulmaz. Bir göz atalım:"
   ]
  },
  {
   "cell_type": "code",
   "execution_count": 24,
   "metadata": {},
   "outputs": [
    {
     "ename": "AttributeError",
     "evalue": "'OyunKarakteri' object has no attribute 'kılıcı_var_mı'",
     "output_type": "error",
     "traceback": [
      "\u001b[1;31m---------------------------------------------------------------------------\u001b[0m",
      "\u001b[1;31mAttributeError\u001b[0m                            Traceback (most recent call last)",
      "\u001b[1;32m<ipython-input-24-a7a4b5512a34>\u001b[0m in \u001b[0;36m<module>\u001b[1;34m\u001b[0m\n\u001b[0;32m      1\u001b[0m \u001b[1;31m# yeni nitelik oluşturma\u001b[0m\u001b[1;33m\u001b[0m\u001b[1;33m\u001b[0m\u001b[1;33m\u001b[0m\u001b[0m\n\u001b[1;32m----> 2\u001b[1;33m \u001b[0mgeralt\u001b[0m\u001b[1;33m.\u001b[0m\u001b[0mkılıcı_var_mı\u001b[0m \u001b[1;33m=\u001b[0m \u001b[1;32mTrue\u001b[0m\u001b[1;33m\u001b[0m\u001b[1;33m\u001b[0m\u001b[0m\n\u001b[0m",
      "\u001b[1;31mAttributeError\u001b[0m: 'OyunKarakteri' object has no attribute 'kılıcı_var_mı'"
     ]
    }
   ],
   "source": [
    "# yeni nitelik oluşturma \n",
    "geralt.kılıcı_var_mı = True"
   ]
  },
  {
   "cell_type": "markdown",
   "metadata": {},
   "source": [
    "Ayrıca bir noktaya dikkat çekelim Bazen şu yapıcıyı görebilirsiniz:"
   ]
  },
  {
   "cell_type": "code",
   "execution_count": 25,
   "metadata": {},
   "outputs": [],
   "source": [
    "class OyunKarakteri:\n",
    "    \n",
    "    __slots__ = ('name', 'hair_color', 'height')\n",
    "    \n",
    "    # Yapıcıda beklenen değerleri tanımlayabiliriz (notasyonlarla)\n",
    "    def __init__(self, isim:str = 'geralt', saç_rengi:str = 'beyaz', boy:int = 180):\n",
    "        self.isim = isim\n",
    "        self.saç_rengi = saç_rengi\n",
    "        self.boy = boy  "
   ]
  },
  {
   "cell_type": "markdown",
   "metadata": {},
   "source": [
    "Böyle bir şey gördüğünüzde buna **notasyonlar** denir. Notasyonlar, bir kurucunun hangi tür ve değerleri almasının beklendiğini söyler. Bu, başka türler sağlamanın imkansız olduğu anlamına gelmez. Sadece hangi türleri sağlamamız gerektiğini söylüyor."
   ]
  },
  {
   "cell_type": "markdown",
   "metadata": {},
   "source": [
    "### <a id=\"3.4\">3.4 Bu Bölümün Anahtar Noktaları</a>\n",
    "\n",
    "- **Yapıcı (constructor)**, bir nesne oluşturulurken otomatik olarak çağrılan bir metottur(yani **\\_\\_init__()** );\n",
    "- **Yıkıcı (destructor)**, bir nesne silinirken otomatik olarak çağrılan bir metottur(yani **\\_\\_del__()** );\n",
    "- self.isim, self.ağırlık...  **nitelikler/alanlardır(attributes/fields)**, burada isim, ağırlık, boy... **parametrelerdir(parameters);**\n",
    "- Herhangi bir metotta **varsayılan parametre(default parameters)** varsa, şu sırayla tanımlanır: **önce varsayılan olmayan parametreler, sonra varsayılan parametreler;**\n",
    "- **\\_\\_init()__** metodu **self parametresi almalı;**\n",
    "- Altçizgili metotlar özeldir. Bunlara **operatör aşırı yükleme metotları veya sihirli yöntemler;**\n",
    "- **Sihirli metotlar (magic methods)** bir nesne belirli bir işlemde yer aldığında otomatik olarak çağrılır (yani toplam için \\_\\_add__() ); \n",
    "- **Aynı isimli metotlar** birbirinin üzerinde çalışır;\n",
    "- **Yapıcılar** nesnelerin niteliklerini önceden tanımlamaya izin verir;\n",
    "- **\\_\\_slots__ alanları** yalnızca belirli özelliklerin oluşturulmasına izin verir"
   ]
  },
  {
   "cell_type": "markdown",
   "metadata": {},
   "source": [
    "### <a id=\"4\">4. Sınıf ve Nesne Nitelikleri. Değişkenlerin Kapsamı</a>\n",
    "\n",
    "Daha derine dalmadan önce, sınıf ve nesne nitelikleri arasında bir fark olduğunu anlamalıyız. Dahası, niteliklerin **farklı bir erişim türü vardır ve yerel ve genel olabilir.**\n",
    "\n",
    "### <a id=\"4.1\">4.1 Sınıf ve Nesne Niteliklerine Erişme</a>\n",
    "\n",
    "Öncelikle şunu sorabilirsiniz: **Sınıf ve nesne nitelikleri nasıl ayırt edilir?**\n",
    "\n",
    "Cevap basit. **Metotların içinde tanımlanan tüm değişkenler nesne nitelikleridir** ve geri kalanları da **(metotların dışındakiler) sınıf nitelikleridir.**\n",
    "\n",
    "Genellikle, sınıf nitelikleri sınıf isminin hemen altına (en üste) yerleştirilir ve tüm nesneler tarafından paylaşılır."
   ]
  },
  {
   "cell_type": "code",
   "execution_count": 26,
   "metadata": {
    "execution": {
     "iopub.execute_input": "2020-10-27T06:55:59.568140Z",
     "iopub.status.busy": "2020-10-27T06:55:59.566908Z",
     "iopub.status.idle": "2020-10-27T06:55:59.569625Z",
     "shell.execute_reply": "2020-10-27T06:55:59.570212Z"
    },
    "papermill": {
     "duration": 0.109737,
     "end_time": "2020-10-27T06:55:59.570415",
     "exception": false,
     "start_time": "2020-10-27T06:55:59.460678",
     "status": "completed"
    },
    "tags": []
   },
   "outputs": [],
   "source": [
    "class OyunKarakteri:\n",
    "    \n",
    "    # Bu nitelik, sınıfa aittir.\n",
    "    sınıf_ismi = 'Oyun Karakteri'\n",
    "    \n",
    "    # Bu metottaki tüm nitelikler nesnelere ait olacaktır\n",
    "    def __init__(self, isim, saç_rengi, boy):\n",
    "        self.isim = isim\n",
    "        self.saç_rengi = saç_rengi\n",
    "        self.boy = boy\n",
    "        \n",
    "geralt = OyunKarakteri(isim='Geralt', saç_rengi='Beyaz', boy = 180)"
   ]
  },
  {
   "cell_type": "markdown",
   "metadata": {
    "papermill": {
     "duration": 0.100284,
     "end_time": "2020-10-27T06:55:59.772166",
     "exception": false,
     "start_time": "2020-10-27T06:55:59.671882",
     "status": "completed"
    },
    "tags": []
   },
   "source": [
    "- **Sınıf niteliklerine**,  **bir nesne veya sınıf aracılığıyla** erişilebilir. (henüz nesne yoksa)\n",
    "- **Nesne niteliklerine**, **sadece nesne aracılığıyla** eişilebilir."
   ]
  },
  {
   "cell_type": "code",
   "execution_count": 27,
   "metadata": {
    "execution": {
     "iopub.execute_input": "2020-10-27T06:55:59.982173Z",
     "iopub.status.busy": "2020-10-27T06:55:59.981120Z",
     "iopub.status.idle": "2020-10-27T06:55:59.984888Z",
     "shell.execute_reply": "2020-10-27T06:55:59.985716Z"
    },
    "papermill": {
     "duration": 0.109853,
     "end_time": "2020-10-27T06:55:59.985963",
     "exception": false,
     "start_time": "2020-10-27T06:55:59.876110",
     "status": "completed"
    },
    "tags": []
   },
   "outputs": [
    {
     "name": "stdout",
     "output_type": "stream",
     "text": [
      "Oyun Karakteri Oyun Karakteri\n"
     ]
    }
   ],
   "source": [
    "# Sınıf niteliğine sınıf ve nesne aracılığıyla erişim\n",
    "print(OyunKarakteri.sınıf_ismi, geralt.sınıf_ismi)"
   ]
  },
  {
   "cell_type": "code",
   "execution_count": 28,
   "metadata": {
    "execution": {
     "iopub.execute_input": "2020-10-27T06:56:00.201852Z",
     "iopub.status.busy": "2020-10-27T06:56:00.200346Z",
     "iopub.status.idle": "2020-10-27T06:56:00.207121Z",
     "shell.execute_reply": "2020-10-27T06:56:00.206326Z"
    },
    "papermill": {
     "duration": 0.119632,
     "end_time": "2020-10-27T06:56:00.207260",
     "exception": false,
     "start_time": "2020-10-27T06:56:00.087628",
     "status": "completed"
    },
    "tags": []
   },
   "outputs": [
    {
     "ename": "AttributeError",
     "evalue": "type object 'OyunKarakteri' has no attribute 'boy'",
     "output_type": "error",
     "traceback": [
      "\u001b[1;31m---------------------------------------------------------------------------\u001b[0m",
      "\u001b[1;31mAttributeError\u001b[0m                            Traceback (most recent call last)",
      "\u001b[1;32m<ipython-input-28-0004d8733f2c>\u001b[0m in \u001b[0;36m<module>\u001b[1;34m\u001b[0m\n\u001b[0;32m      1\u001b[0m \u001b[1;31m# Nesne niteliklerine sınıf aracılığıyla erişim imkansızdır,\u001b[0m\u001b[1;33m\u001b[0m\u001b[1;33m\u001b[0m\u001b[1;33m\u001b[0m\u001b[0m\n\u001b[0;32m      2\u001b[0m \u001b[1;31m# sadece nesne aracılığıyla erişilebilir.\u001b[0m\u001b[1;33m\u001b[0m\u001b[1;33m\u001b[0m\u001b[1;33m\u001b[0m\u001b[0m\n\u001b[1;32m----> 3\u001b[1;33m \u001b[0mprint\u001b[0m\u001b[1;33m(\u001b[0m\u001b[0mOyunKarakteri\u001b[0m\u001b[1;33m.\u001b[0m\u001b[0mboy\u001b[0m\u001b[1;33m)\u001b[0m\u001b[1;33m\u001b[0m\u001b[1;33m\u001b[0m\u001b[0m\n\u001b[0m",
      "\u001b[1;31mAttributeError\u001b[0m: type object 'OyunKarakteri' has no attribute 'boy'"
     ]
    }
   ],
   "source": [
    "# Nesne niteliklerine sınıf aracılığıyla erişim imkansızdır, \n",
    "# sadece nesne aracılığıyla erişilebilir.\n",
    "print(OyunKarakteri.boy)"
   ]
  },
  {
   "cell_type": "markdown",
   "metadata": {
    "papermill": {
     "duration": 0.100372,
     "end_time": "2020-10-27T06:56:00.409504",
     "exception": false,
     "start_time": "2020-10-27T06:56:00.309132",
     "status": "completed"
    },
    "tags": []
   },
   "source": [
    "### <a id=\"4.2\">4.2 Yerel Değişkenler</a>\n",
    "\n",
    "Bir sınıftaki yerel değişkenler, metotların içinde tanımlanan değişkenlerdir. Yalnızca orada bulunurlar ve bu yöntemlerin dışında kullanılamazlar. Yukarıdaki kodda, **isim, saç_rengi ve boy gibi değişkenler yereldir.** Bunlara bir sınıf adı kullanarak erişemiyoruz."
   ]
  },
  {
   "cell_type": "code",
   "execution_count": 29,
   "metadata": {
    "execution": {
     "iopub.execute_input": "2020-10-27T06:56:00.626707Z",
     "iopub.status.busy": "2020-10-27T06:56:00.625589Z",
     "iopub.status.idle": "2020-10-27T06:56:00.630447Z",
     "shell.execute_reply": "2020-10-27T06:56:00.631047Z"
    },
    "papermill": {
     "duration": 0.120418,
     "end_time": "2020-10-27T06:56:00.631210",
     "exception": false,
     "start_time": "2020-10-27T06:56:00.510792",
     "status": "completed"
    },
    "tags": []
   },
   "outputs": [
    {
     "ename": "AttributeError",
     "evalue": "type object 'OyunKarakteri' has no attribute 'saç_rengi'",
     "output_type": "error",
     "traceback": [
      "\u001b[1;31m---------------------------------------------------------------------------\u001b[0m",
      "\u001b[1;31mAttributeError\u001b[0m                            Traceback (most recent call last)",
      "\u001b[1;32m<ipython-input-29-bd80d60f7a28>\u001b[0m in \u001b[0;36m<module>\u001b[1;34m\u001b[0m\n\u001b[0;32m      1\u001b[0m \u001b[1;31m# Yerel değişkene erişim\u001b[0m\u001b[1;33m\u001b[0m\u001b[1;33m\u001b[0m\u001b[1;33m\u001b[0m\u001b[0m\n\u001b[1;32m----> 2\u001b[1;33m \u001b[0mOyunKarakteri\u001b[0m\u001b[1;33m.\u001b[0m\u001b[0msaç_rengi\u001b[0m\u001b[1;33m\u001b[0m\u001b[1;33m\u001b[0m\u001b[0m\n\u001b[0m",
      "\u001b[1;31mAttributeError\u001b[0m: type object 'OyunKarakteri' has no attribute 'saç_rengi'"
     ]
    }
   ],
   "source": [
    "# Yerel değişkene erişim \n",
    "OyunKarakteri.saç_rengi"
   ]
  },
  {
   "cell_type": "markdown",
   "metadata": {
    "papermill": {
     "duration": 0.10168,
     "end_time": "2020-10-27T06:56:00.833379",
     "exception": false,
     "start_time": "2020-10-27T06:56:00.731699",
     "status": "completed"
    },
    "tags": []
   },
   "source": [
    "### <a id=\"4.3\">4.3 Global Değişkenler</a>\n",
    "\n",
    "**Global değişkenler kod bloklarında tanımlanmaz**(fonksiyonlar, ifadeler vb.) ve sınıf veya nesne ile erişilebilirler."
   ]
  },
  {
   "cell_type": "code",
   "execution_count": 30,
   "metadata": {
    "execution": {
     "iopub.execute_input": "2020-10-27T06:56:01.041652Z",
     "iopub.status.busy": "2020-10-27T06:56:01.040665Z",
     "iopub.status.idle": "2020-10-27T06:56:01.044469Z",
     "shell.execute_reply": "2020-10-27T06:56:01.045380Z"
    },
    "papermill": {
     "duration": 0.10941,
     "end_time": "2020-10-27T06:56:01.045600",
     "exception": false,
     "start_time": "2020-10-27T06:56:00.936190",
     "status": "completed"
    },
    "tags": []
   },
   "outputs": [
    {
     "name": "stdout",
     "output_type": "stream",
     "text": [
      "Oyun Karakteri Oyun Karakteri\n"
     ]
    }
   ],
   "source": [
    "# Global değişkene bir sınıf ve bir nesne kullanarak erişim\n",
    "print(OyunKarakteri.sınıf_ismi, geralt.sınıf_ismi)"
   ]
  },
  {
   "cell_type": "markdown",
   "metadata": {},
   "source": [
    "**Önemli**\n",
    "\n",
    "**Global/Yerel değişkenler** ve **sınıf/nesne nitelikleri** benzer görünse de, bunlar, **erişilme yöntemi bakımından farklılaşırlar.** \n",
    "\n",
    "**Global/yerel değişkenler** için en önemli şey, **erişilebildikleri yer**, iken **sınıf/nesne nitelikleri** için en önemli şey **erişilme yöntemidir (sınıf/nesne ismi kullanarak).** "
   ]
  },
  {
   "cell_type": "markdown",
   "metadata": {},
   "source": [
    "### <a id=\"4.4\">4.4 Bu Bölümün Anahtar Noktaları</a>\n",
    "\n",
    "- **Sınıf nitelikleri**, **metotlar dışında** tanımlanır ve **sınıf veya nesne ile;** erişilir.\n",
    "- **Nesne nitelikleri**, **metotlar içinde** tanımlanır ve sadece **nesne ile;** erişilir.\n",
    "- **Yerel değişkenler/nitelikler**, **metotlar veya kod blokları içinde;** tanımlanır.\n",
    "- **Global değişkenler/nitelikler**, **metotlar veya kod blokları dışında;** tanımlanır."
   ]
  },
  {
   "cell_type": "markdown",
   "metadata": {},
   "source": [
    "### <a id=\"5\">5. Kalıtım, Çokbiçimlilik ve Sarmalama</a>\n",
    "\n",
    "Bu ürkütücü tanımları, kalıtım(inheritance)dan başlayarak tek tek ele alalım.\n",
    "\n",
    "\n",
    "### <a id=\"5.1\">5.1 Kalıtım</a>\n",
    "\n",
    "Bu sadece bir soyutlamadır ve anlam oldukça basittir. Nesne oluşturma ile uğraşırken zaten kalıtımla karşı karşıya kalmıştık. Bir nesne, yaratılırken sınıfının niteliklerini ve metotlarını miras alır. Bu gerçeği hesaba katarsak, yeni bir sınıfın zaten var olan bir sınıfın yöntemlerini ve niteliklerini de miras alabileceğini söyleyebiliriz. Bu, NTP'deki **kalıtım(inheritance)** kavramıdır.\n",
    "\n",
    "Pekala, ama buna neden ihtiyacımız var?\n",
    "\n",
    "Binlerce hatta milyonlarca farklı oyun karakteri yaratmamız gerektiğini hayal edin. Sağduyumuz, hepsinin ortak bir yanı ve benzersiz bir şeye sahip olacağı konusunda bize rehberlik eder. Aynı kodu milyonlarca kez yeniden yazmak sıkıcı ve iyi bir fikir değildir, daha iyi bir çözüme ihtiyacımız vardır ve işte burada kalıtım devreye giriyor. Tek yapmamız gereken sadece ana sınıfı (buna **ebeveyn sınıfı(parent class)** denir) ana niteliklerle tanımlamak ve istediğimiz kadar çok sınıfı miras almaktır (bunlara **çocuk sınıflar(child class)** denir). Çocuk sınıfların yalnızca kendine özgü nitelikleri ve metotları değil, aynı zamanda ebeveyn sınıfından veya sınıflarından nitelikleri ve metotları da olacaktır (evet, bir çocuk sınıfında yalnızca bir ebeveyn sınıfı değil, birçok sınıf olabilir). Diğer bir deyişle, kalıtım, kod esnekliği ve tutarlılığı sağlar.\n",
    "\n",
    "**Bir veya birkaç sınıfı miras almak için aşağıdaki sözdizimini sağlayın:**\n",
    "\n",
    "`yeni_sınıf_ismi (ebeveyn_sınıf_1, ebeveyn_sınıf_2, ..., ebeveyn_sınıf_n)`\n",
    "\n",
    "Şimdi örnekler üzerinde çalışalım. Bilgisayar oyununa geri dönelim.\n",
    "\n",
    "Oyunda Geralt, Ciri ve Vesimir Witchers'dır. Başka birçok farklı oyun karakteri de vardır (örneğin canavarlar, köylüler, şövalyeler vb.). Hepsi oyun karakterleri olmasına rağmen, bazı benzersiz niteliklere sahiptirler (örneğin, büyücüler ve canavarlar olağanüstü yeteneklere sahipken köylüler bir oyun yerinin belirli nitelikleri (giysiler, ses türü vb.))"
   ]
  },
  {
   "cell_type": "code",
   "execution_count": 32,
   "metadata": {},
   "outputs": [
    {
     "name": "stdout",
     "output_type": "stream",
     "text": [
      "['Axii', 'Qven', 'Ignii', 'Aard', 'Yrden']\n",
      "Geralt'ın ismi:  Geralt\n",
      "Seni gördüğüme sevindim benim adım Geralt\n"
     ]
    }
   ],
   "source": [
    "# OyunKarakteri sınıfını(ebeveyn sınıf) tanımlayalım\n",
    "class OyunKarakteri:\n",
    "    \n",
    "    # yapıcı tanımlama\n",
    "    def __init__(self, isim, saç_rengi, boy):\n",
    "        self.isim = isim\n",
    "        self.saç_rengi = saç_rengi\n",
    "        self.boy = boy\n",
    "        \n",
    "    # Karşılama ve güle güle demek için 2 ana yöntem tanımlayalım  \n",
    "    def karşılama(self):\n",
    "        return f'Seni gördüğüme sevindim benim adım {self.isim}'\n",
    "        \n",
    "    def veda(self):\n",
    "        return 'Elveda'\n",
    "\n",
    "# Witcher Sınıfını (çocuk sınıf) tanımlayalım\n",
    "# Witcher'ın sahip olduğunu gösteren işaret_yetenekleri yazdıran bir metot oluşturalım.\n",
    "class Witcher(OyunKarakteri):\n",
    "    \n",
    "    # Artık yapıcıya gerek yok çünkü ebeveyn sınıfından miras alındı.\n",
    "    # Benzersiz bir yöntem tanımlayalım. Sadece büyücülerin işaret yetenekleri vardır\n",
    "    def işaret_yetenekleri(self):\n",
    "        işaretler = ['Axii','Qven','Ignii','Aard','Yrden']\n",
    "        return işaretler\n",
    "\n",
    "# Yeni bir nesne oluşturalım\n",
    "geralt = Witcher(isim= 'Geralt', saç_rengi= 'White', boy= 180)\n",
    "\n",
    "# Artık Geralt, Witcher Sınıfına ve OyunKarakteri sınıfına ait\n",
    "# İşaretler hakkında bilgi alalım\n",
    "print(geralt.işaret_yetenekleri())\n",
    "\n",
    "# Ebeveyn sınıfından diğer özelliklere erişim\n",
    "print(\"Geralt'ın ismi: \", geralt.isim)\n",
    "print(geralt.karşılama())"
   ]
  },
  {
   "cell_type": "markdown",
   "metadata": {
    "papermill": {
     "duration": 0.100927,
     "end_time": "2020-10-27T06:56:01.666320",
     "exception": false,
     "start_time": "2020-10-27T06:56:01.565393",
     "status": "completed"
    },
    "tags": []
   },
   "source": [
    "Yukarıdaki koddan, **Witcher sınıfının**, **OyunKarakteri sınıfından** miras alındığını ve önceki tüm nitelikleri yeniden yazmak zorunda olmadığımızı görebiliriz. Birkaç satır kod ekledik ve benzersiz metot **işaret_yetenekleri()**  yeni bir nesneyi başlattık, çünkü oyunda sadece Witchers işaretlerle olağanüstü yeteneklere sahiptir. Bir sınıfın başka bir sınıfın alt sınıfı olduğundan emin olmak için **issubclass()** fonksiyonunu kullanabiliriz."
   ]
  },
  {
   "cell_type": "code",
   "execution_count": 33,
   "metadata": {
    "execution": {
     "iopub.execute_input": "2020-10-27T06:56:01.872604Z",
     "iopub.status.busy": "2020-10-27T06:56:01.871812Z",
     "iopub.status.idle": "2020-10-27T06:56:01.875336Z",
     "shell.execute_reply": "2020-10-27T06:56:01.876135Z"
    },
    "papermill": {
     "duration": 0.109454,
     "end_time": "2020-10-27T06:56:01.876335",
     "exception": false,
     "start_time": "2020-10-27T06:56:01.766881",
     "status": "completed"
    },
    "tags": []
   },
   "outputs": [
    {
     "name": "stdout",
     "output_type": "stream",
     "text": [
      "Witcher Sınıfı Oyun Karakter Sınıfının Alt Sınıfı mıdır?:  True\n"
     ]
    }
   ],
   "source": [
    "print('Witcher Sınıfı Oyun Karakter Sınıfının Alt Sınıfı mıdır?: ', issubclass(Witcher, OyunKarakteri))"
   ]
  },
  {
   "cell_type": "markdown",
   "metadata": {
    "papermill": {
     "duration": 0.101784,
     "end_time": "2020-10-27T06:56:02.080418",
     "exception": false,
     "start_time": "2020-10-27T06:56:01.978634",
     "status": "completed"
    },
    "tags": []
   },
   "source": [
    "### <a id=\"5.1.1\">5.1.1 Yapıcı Uzantısı</a>\n",
    "\n",
    "Az önce, **Witcher sınıfı** için **\\_\\_init__()** yöntemini sağlamadık. Bu durumda, Witcher sınıfı ebeveyn sınıfında kurucuyu arayacak ve sonunda onu bulacaktır. Witcher sınıfı için de **\\_\\_init__()** oluşturabiliriz. Bu durumda, Witcher sınıfından **\\_\\_init__()**, OyunKarakteri **\\_\\_init__()** metodunu geçersiz kılacaktır(override). Oyunda, Witchers farklı okullara aittir (ör. Kedi Okulu, Kurt Okulu, Ayı Okulu ve diğerleri). Bu benzersiz niteliği Witcher sınıfına ekleyelim."
   ]
  },
  {
   "cell_type": "code",
   "execution_count": 34,
   "metadata": {
    "execution": {
     "iopub.execute_input": "2020-10-27T06:56:02.289659Z",
     "iopub.status.busy": "2020-10-27T06:56:02.288785Z",
     "iopub.status.idle": "2020-10-27T06:56:02.293663Z",
     "shell.execute_reply": "2020-10-27T06:56:02.293041Z"
    },
    "papermill": {
     "duration": 0.112843,
     "end_time": "2020-10-27T06:56:02.293829",
     "exception": false,
     "start_time": "2020-10-27T06:56:02.180986",
     "status": "completed"
    },
    "tags": []
   },
   "outputs": [
    {
     "data": {
      "text/plain": [
       "'Kurt'"
      ]
     },
     "execution_count": 34,
     "metadata": {},
     "output_type": "execute_result"
    }
   ],
   "source": [
    "# Witcher sınıfı için yapıcı oluşturalım\n",
    "class Witcher(OyunKarakteri):\n",
    "    \n",
    "    # Geralt Kurt Okulu'na ait  \n",
    "    def __init__(self, witcher_okulu = 'Kurt'):\n",
    "        self.witcher_okulu = witcher_okulu\n",
    "        \n",
    "# Yeni nitelik değerine erişim        \n",
    "geralt = Witcher()\n",
    "geralt.witcher_okulu"
   ]
  },
  {
   "cell_type": "markdown",
   "metadata": {
    "papermill": {
     "duration": 0.100811,
     "end_time": "2020-10-27T06:56:02.496273",
     "exception": false,
     "start_time": "2020-10-27T06:56:02.395462",
     "status": "completed"
    },
    "tags": []
   },
   "source": [
    "Yukarıdaki kodda OyunKarakteri sınıfından **\\_\\_init__()** geçersiz kılındı ve artık OyunKarakteri sınıfından niteliklere erişemiyoruz."
   ]
  },
  {
   "cell_type": "code",
   "execution_count": 35,
   "metadata": {
    "execution": {
     "iopub.execute_input": "2020-10-27T06:56:02.713209Z",
     "iopub.status.busy": "2020-10-27T06:56:02.712098Z",
     "iopub.status.idle": "2020-10-27T06:56:02.717047Z",
     "shell.execute_reply": "2020-10-27T06:56:02.716237Z"
    },
    "papermill": {
     "duration": 0.118982,
     "end_time": "2020-10-27T06:56:02.717181",
     "exception": false,
     "start_time": "2020-10-27T06:56:02.598199",
     "status": "completed"
    },
    "tags": []
   },
   "outputs": [
    {
     "ename": "AttributeError",
     "evalue": "'Witcher' object has no attribute 'name'",
     "output_type": "error",
     "traceback": [
      "\u001b[1;31m---------------------------------------------------------------------------\u001b[0m",
      "\u001b[1;31mAttributeError\u001b[0m                            Traceback (most recent call last)",
      "\u001b[1;32m<ipython-input-35-85dac99ee49a>\u001b[0m in \u001b[0;36m<module>\u001b[1;34m\u001b[0m\n\u001b[1;32m----> 1\u001b[1;33m \u001b[0mgeralt\u001b[0m\u001b[1;33m.\u001b[0m\u001b[0mname\u001b[0m\u001b[1;33m\u001b[0m\u001b[1;33m\u001b[0m\u001b[0m\n\u001b[0m",
      "\u001b[1;31mAttributeError\u001b[0m: 'Witcher' object has no attribute 'name'"
     ]
    }
   ],
   "source": [
    "geralt.name"
   ]
  },
  {
   "cell_type": "markdown",
   "metadata": {
    "papermill": {
     "duration": 0.10169,
     "end_time": "2020-10-27T06:56:02.921696",
     "exception": false,
     "start_time": "2020-10-27T06:56:02.820006",
     "status": "completed"
    },
    "tags": []
   },
   "source": [
    "Ancak çoğu zaman ebeveyn kurucusunu yeniden yazmak istemeyiz, bunun yerine genişletmek isteriz!\n",
    "\n",
    "Bu amaçla, sadece **ebeveyn kurucusunu çağırmamız ve ardından yeni alanlarla genişletmemiz gerekir**:"
   ]
  },
  {
   "cell_type": "code",
   "execution_count": 36,
   "metadata": {
    "execution": {
     "iopub.execute_input": "2020-10-27T06:56:03.137364Z",
     "iopub.status.busy": "2020-10-27T06:56:03.136546Z",
     "iopub.status.idle": "2020-10-27T06:56:03.140517Z",
     "shell.execute_reply": "2020-10-27T06:56:03.139787Z"
    },
    "papermill": {
     "duration": 0.116059,
     "end_time": "2020-10-27T06:56:03.140641",
     "exception": false,
     "start_time": "2020-10-27T06:56:03.024582",
     "status": "completed"
    },
    "tags": []
   },
   "outputs": [
    {
     "name": "stdout",
     "output_type": "stream",
     "text": [
      "Witcher Okulu :  Kurt\n",
      "Geralt'ın Saç Rengi:  Beyaz\n"
     ]
    }
   ],
   "source": [
    "class Witcher(OyunKarakteri):\n",
    "    \n",
    "    # Bu kurucu genişletileceği için önceki tüm parametreleri sağlamalıyız\n",
    "    # Witcher sınıfı için yapıcıyı genişletelim. __İnit__() yapalım ve tüm alanları adlandıralım\n",
    "    def __init__(self, isim, saç_rengi, boy, witcher_okulu = 'Kurt'):\n",
    "        # Ebeveyn kurucuyu çağıralım \n",
    "        OyunKarakteri.__init__(self, isim, saç_rengi, boy)\n",
    "        # Yeni bir nitelikle genişletelim\n",
    "        self.witcher_okulu = witcher_okulu\n",
    "    \n",
    "# Şimdi sadece bir argümanı değil tüm argümanları sağlamalıyız \n",
    "# çünkü Witcher sınıfının yapıcısı OyunKarakteri yapıcısı tarafından genişletildi.\n",
    "geralt = Witcher(isim= 'Geralt', saç_rengi= 'Beyaz', boy= 180)\n",
    "\n",
    "# Yalnızca benzersiz değil, aynı zamanda ebeveyn kurucusunun niteliklerine de erişebiliriz.\n",
    "# Yapıcı uzantısı sayesinde!\n",
    "print(\"Witcher Okulu : \", geralt.witcher_okulu)\n",
    "print(\"Geralt'ın Saç Rengi: \", geralt.saç_rengi)"
   ]
  },
  {
   "cell_type": "markdown",
   "metadata": {},
   "source": [
    "**Önemli Not**\n",
    "\n",
    "Yukarıda **çocuk yapıcı** aşağıdaki sözdizimi yardımıyla, ebeveyn yapıcı ile genişletilmiştir: \n",
    "\n",
    "`sınıf_ismi.__init__()`\n",
    "\n",
    "Ancak, bu seçenek pek güvenilir değildir çünkü **çoklu kalıtım (multiple inheritance)** söz konusu olduğunda, ebeveyn sınıflarının çağrılma sırası son derece önemlidir. Yanlış düzen, kaos ve hataları beraberinde getirir. Bunu önlemek için güvenilir yapı kullanırız: **super().\\_\\_init__()**. **super() fonksiyonu** tüm ebeveyn sınıflarını doğru sırada işler (fonksiyon içeride özel algoritma kullanır)"
   ]
  },
  {
   "cell_type": "markdown",
   "metadata": {},
   "source": [
    "### <a id=\"5.1.2\">5.1.2 Metot Uzantısı</a>\n",
    "\n",
    "Yapıcı, diğer metotlar gibidir. Alt çizgilerden dolayı biraz özeldir (sihirli metot). Daha önce, ebeveyn niteliklerine erişebilmemiz için bunu zaten genişletmiştik. Bunun gibi diğer fonksiyonlarda da eklentiler yapabiliriz. Başka bir deyişle, çocuk metotlarında ebeveyn metotlarını çağırabilir ve ardından sonuçlarını işleyebiliriz (yani bir fonksiyon içinde fonksiyonu çağırabiliriz)\n",
    "\n",
    "Örneğin, Witcher sınıfındaki selamlama metodunu değiştirelim. Çok fazla değiştirmeyelim, sadece mevcut karakterin Witcher olduğunu belirten bir cümle ekleyelim. "
   ]
  },
  {
   "cell_type": "code",
   "execution_count": 38,
   "metadata": {},
   "outputs": [
    {
     "name": "stdout",
     "output_type": "stream",
     "text": [
      "Seni gördüğüme sevindim benim adım Geralt\n",
      "Ben bir Witcher'ım\n"
     ]
    }
   ],
   "source": [
    "class Witcher(OyunKarakteri):\n",
    "    \n",
    "    def __init__(self, isim, saç_rengi, boy, witcher_okulu = 'Kurt'):\n",
    "        # şimdi super() kullanalım\n",
    "        super().__init__(isim, saç_rengi, boy)\n",
    "        self.witcher_okulu = witcher_okulu\n",
    "   \n",
    "    # Bu metot genişletilecek\n",
    "    # İlk olarak OyunKarakteri sınıfından selamlama yöntemini çalıştırdığı anlamına gelir. \n",
    "    # Sonra da kodun geri kalanını  \n",
    "    def karşılama(self):\n",
    "        # Üst Sınıftan selamlama yöntemini çağırma (Metot Uzantısı)\n",
    "        ebeveyn_sel = super().karşılama()\n",
    "        # Kodun geri kalanını yürütmeye devam eder\n",
    "        print(f\"{ebeveyn_sel}\\nBen bir Witcher'ım\")\n",
    "        \n",
    "geralt = Witcher(isim='Geralt', saç_rengi= 'Beyaz', boy= 180)\n",
    "geralt.karşılama()"
   ]
  },
  {
   "cell_type": "markdown",
   "metadata": {},
   "source": [
    "Görkemli bir şekilde, Witcher sınıfından **karşılama()** yöntemi genişletildi!"
   ]
  },
  {
   "cell_type": "markdown",
   "metadata": {},
   "source": [
    "### <a id=\"5.2\">5.2 Çokbiçimlilik veya Metodu Geçersiz Kılma</a> \n",
    "\n",
    "**Çokbiçimlilik (polymorphism)** kelimesini duyduğunuzda aklınıza gelen ilk şey, muhtemelen birçok farklı form veya şekle sahip bir şeydir. **Çok biçimlilik yalnızca soyut bir terimdir.** Temel olarak, **NTP'deki çokbiçimlilik yalnızca aynı adlara sahip ancak tamamen farklı mantığa sahip yöntemlerdir.**\n",
    "\n",
    "Şaşırtıcı bir şekilde, ancak çokbiçimliliğin iş başında olduğunu görmüştük aslında(ör. **\\_\\_init__()** metodu).\n",
    "\n",
    "Dikkat edin, **bir fonksiyonun çokbiçimliliği ve sınıf metotları farklı terimlerdir** (bir fonksiyonun çokbiçimliliği, NTP'deki çokbiçimliliği ile ilgili değildir)\n",
    "\n",
    "Çokbiçimliliği uygulayalım. Bu amaçla, basitçe **karşılama()** metodunu oluşturalım (aynı metot adı, ancak farklı mantık). Metodun **OyunKarakteri sınıfında** zaten mevcut olduğunu ve **Witcher sınıfında** aynı metot adını tanımlamanın metodu geçersiz kılacağını biliyoruz, tam da ihtiyacımız olan şey bu."
   ]
  },
  {
   "cell_type": "code",
   "execution_count": 39,
   "metadata": {},
   "outputs": [
    {
     "data": {
      "text/plain": [
       "\"Ben Witcher'ım ve Canavarları Arıyorum!\""
      ]
     },
     "execution_count": 39,
     "metadata": {},
     "output_type": "execute_result"
    }
   ],
   "source": [
    "# Write familiar code once again\n",
    "class Witcher(OyunKarakteri):\n",
    "    \n",
    "    # Sınıf yapıcısı\n",
    "    def __init__(self, isim, saç_rengi, boy, witcher_okulu = 'Kurt'):\n",
    "        super().__init__(isim, saç_rengi, boy)\n",
    "        self.witcher_okulu = witcher_okulu\n",
    "        \n",
    "    # Çokbiçimlilik devrede.  \n",
    "    def karşılama(self):\n",
    "        return \"Ben Witcher'ım ve Canavarları Arıyorum!\"\n",
    "        \n",
    "geralt = Witcher(isim='Geralt', saç_rengi= 'Beyaz', boy= 180)\n",
    "geralt.karşılama()"
   ]
  },
  {
   "cell_type": "markdown",
   "metadata": {},
   "source": [
    "Yukarıdaki koddan, **karşılama()** metodunun yürütülmesinin farklı bir sonuca yol açtığını görebiliriz. Bunun nedeni, **ebeveyn metodunun alt yöntem tarafından geçersiz kılınmış (override)** olmasıdır (çok biçimlilik)."
   ]
  },
  {
   "cell_type": "markdown",
   "metadata": {},
   "source": [
    "### <a id=\"5.3\">5.3 Sarmalama</a>\n",
    "\n",
    "**Sarmalama (encapsulation)** adı verilen bir soyutlamayla daha karşı karşıyayız. Tahmin edebileceğiniz gibi sarmalam, **gizlemek ve korumak** istediğimiz bir şey anlamına gelir. Sınıflar çok büyük ve karmaşık olabilir ve içinde birçok yardımcı nitellik ve metot olabilir. Bunlardan bazıları, belirli bir sınıf dışında kullanılmamalıdır. Bir sınıf için istikrar sağlayan bir tür küçük unsurlardır. Bu nedenle, bir sınıfın istikrar unsurlarını korumak isteyebilir ve bunların alışılmış bir şekilde değiştirilmesine izin vermeyebiliriz. Ancak, daha daha derine inmedem **erişim değiştiricileri (access modifiers)** kavramına bakalım ve bunların nasıl farklılaştığını görelim, çünkü bu, **sarmalama mekanizmasının çekirdeğidir.**\n",
    "\n",
    "\n",
    "### <a id=\"5.3.1\">5.3.1 Erişim Değiştiriciler</a>\n",
    "\n",
    "Erişim değiştiriciler, bir sınıftaki niteliklerin kapsamını değiştirmek için kullanılır. **3 ana türü vardır:**\n",
    "\n",
    "- **Public:** nitelik_ismi (heryerden erişilebilir);\n",
    "- **Protected:** \\_nitelik_ismi (sadece sınıftan ve tüm çocuk sınıflarından erişilebilir);\n",
    "- **Private:** \\_\\_nitelik_ismi (sadece tanımlanmış olan sınıfta erişilebilir)\n",
    "\n",
    "Bunlara neden ihtiyacımız var?\n",
    "\n",
    "Bazı nitelikler bir sınıf için değerli olabilir ve onların sınıfın dışında değişmelerini veya erişmelerine engel olmak isteyebiliriz. Şuna bir göz atalım:"
   ]
  },
  {
   "cell_type": "code",
   "execution_count": 40,
   "metadata": {},
   "outputs": [],
   "source": [
    "# OyunKarakteri sınıfından nitelik adına erişelim ve değiştirelim\n",
    "geralt.name = 100"
   ]
  },
  {
   "cell_type": "markdown",
   "metadata": {},
   "source": [
    "Bunu kesinlikle istemeyiz. **Sayılar isimler için uygun değildir.** Bu durumu önlemek için **erişim değiştiriciler uygulamalıyız.**"
   ]
  },
  {
   "cell_type": "code",
   "execution_count": 42,
   "metadata": {},
   "outputs": [
    {
     "name": "stdout",
     "output_type": "stream",
     "text": [
      "Beyaz 180\n"
     ]
    },
    {
     "ename": "AttributeError",
     "evalue": "'OyunKarakteri' object has no attribute '__isim'",
     "output_type": "error",
     "traceback": [
      "\u001b[1;31m---------------------------------------------------------------------------\u001b[0m",
      "\u001b[1;31mAttributeError\u001b[0m                            Traceback (most recent call last)",
      "\u001b[1;32m<ipython-input-42-44f31e9b8355>\u001b[0m in \u001b[0;36m<module>\u001b[1;34m\u001b[0m\n\u001b[0;32m     14\u001b[0m \u001b[1;33m\u001b[0m\u001b[0m\n\u001b[0;32m     15\u001b[0m \u001b[1;31m# Özel niteliklere erişim bir hataya neden olur\u001b[0m\u001b[1;33m\u001b[0m\u001b[1;33m\u001b[0m\u001b[1;33m\u001b[0m\u001b[0m\n\u001b[1;32m---> 16\u001b[1;33m \u001b[0mgeralt\u001b[0m\u001b[1;33m.\u001b[0m\u001b[0m__isim\u001b[0m\u001b[1;33m\u001b[0m\u001b[1;33m\u001b[0m\u001b[0m\n\u001b[0m",
      "\u001b[1;31mAttributeError\u001b[0m: 'OyunKarakteri' object has no attribute '__isim'"
     ]
    }
   ],
   "source": [
    "# Gösterim için, sınıftaki üç tür erişim değiştiricinin tümünü tanımlayın\n",
    "class OyunKarakteri:\n",
    "    \n",
    "    def __init__(self, isim, saç_rengi, boy):\n",
    "        self.__isim = isim # private\n",
    "        self._saç_rengi = saç_rengi # protected\n",
    "        self.boy = boy # public\n",
    "        \n",
    "geralt = OyunKarakteri(isim= 'Geralt', saç_rengi= 'Beyaz', boy= 180)\n",
    "\n",
    "# Nesne aracılığıyla yalnızca genel ve korumalı niteliklere erişebiliriz\n",
    "# Aslında aynılar, aşağıda nedenini okuyabilirsiniz\n",
    "print(geralt._saç_rengi, geralt.boy)\n",
    "\n",
    "# Özel niteliklere erişim bir hataya neden olur\n",
    "geralt.__isim"
   ]
  },
  {
   "cell_type": "markdown",
   "metadata": {},
   "source": [
    "Yukarıdaki hata bize **\\_\\_name** niteliğinin var olmadığını söyler. Ancak, yine de biz onu sadece sakladık ve sınıf dışında mevcut değil.\n",
    "\n",
    "Şöyle diyebilirsiniz: eğer **height ve \\_hair_color** niteliklerine erişebiliyor ve ikisini de değiştirebiliyorsak, aradaki fark nedir? Cevap şu olur: yalnızca tek bir alt çizgiye sahip erişim değiştirici korumalı olduğunu ve yalnızca belirli bir sınıfta ve alt sınıflarında kullanılabileceğini **belirtir veya söyler**. Diğer bir deyişle, **korumalı nitelikler sadece Python'da mevcut değildir. **\n",
    "\n",
    "Aslında **korumalı ve genel nitelikler aynıdır.** Tek alt çizgi, yalnızca özelliğin korunduğunu ve onu sınıf dışında kullanmamamız gerektiğini söyler, aksi takdirde dokunulmayacağı varsayıldığı için öngörülemeyen hatalara yol açabilir. Hala anlaşılması zorsa, işte bir tür pratik kural: Tek bir alt çizgiye sahip öznitelikler görürseniz, onları doğrudan çağırmayın çünkü bunlar iç hizmet değişkenleridir.\n",
    "\n",
    "**Yalnızca niteliklerin farklı erişim değiştiricilere sahip olabileceğini değil, aynı zamanda metotların da olabileceğini** unutmayın!\n",
    "\n",
    "**Private/protected metotlar**, sınıf içinde işlevsellik sağlamak için kullanılır. Onlara dokunmayın ve sınıfın dışında aramaya çalışmayın!!!\n",
    "\n",
    "Konuyu daha iyi anlamak için bir örnek daha ele alalım. Örneğin, önceden oluşturduğumuz bir kaç oyun karakterini takip etmek isteyebiliriz. Bu gerçekten önemli olabilir çünkü oyunun belirli bir anı için yalnızca belirli sayıda karakter oluşturmak isteyebiliriz. Yanlış bir sayaç kaos ve belirsizlik yaratacaktır. Özel(sarmalanmış) bir sınıf niteliği oluşturalım **\\_\\_counter.**"
   ]
  },
  {
   "cell_type": "code",
   "execution_count": 43,
   "metadata": {},
   "outputs": [],
   "source": [
    "class GameCharacter:\n",
    "    \n",
    "    # New private class attribute \n",
    "    __counter = 0\n",
    "\n",
    "    # Make all object attribute private \n",
    "    def __init__(self, name, hair_color, height):\n",
    "        self.__name = name\n",
    "        self.__hair_color = hair_color\n",
    "        self.__height = height\n",
    "        \n",
    "        # New game character creation will be leading to an increase in counter \n",
    "        # We use a specila syntax to access class attribute via an object \n",
    "        self.__class__.__counter += 1\n",
    "    \n",
    "    # Decrease the counter if delete a game character\n",
    "    def __del__(self):\n",
    "        self.__class__.__counter -= 1\n",
    "        \n",
    "geralt = GameCharacter(name = 'Geralt', hair_color = 'White', height = 180)\n",
    "ciri = GameCharacter(name = 'Ciri', hair_color = 'White', height = 180)"
   ]
  },
  {
   "cell_type": "markdown",
   "metadata": {},
   "source": [
    "Her şey çalışıyor gibi görünüyor! Ancak, **özel niteliklere erişemiyoruz**, onları değiştirmekten bahsetmiyoruz bile.\n",
    "\n",
    "Bu sorunu nasıl çözebiliriz?\n",
    "\n",
    "Birkaç çözüm olduğunu söyleyebiliriz. Bunlardan biri **özel bir sözdizimi kullanmaktır:**\n",
    "\n",
    "- obj.\\_\\_class__.attribute/method_name;\n",
    "- obj.\\_class_name__attribute/method name;\n",
    "- class_name.\\_class_name__counter"
   ]
  },
  {
   "cell_type": "code",
   "execution_count": 44,
   "metadata": {},
   "outputs": [
    {
     "data": {
      "text/plain": [
       "'Geralt'"
      ]
     },
     "execution_count": 44,
     "metadata": {},
     "output_type": "execute_result"
    }
   ],
   "source": [
    "# Special syntax allows not only getting but also changing private attributes\n",
    "geralt._GameCharacter__name"
   ]
  },
  {
   "cell_type": "markdown",
   "metadata": {},
   "source": [
    "However, it's not recommended and a **double underscore** must indicate the developers that they must work with this attribute only using **special methods** called **getters, setters and deleters**. We must remember what we can do with object attributes:\n",
    "\n",
    "Ancak, bu önerilmez ve bir **çift alt çizgi**, geliştiricilere yalnızca **alıcılar(getter), ayarlayıcılar(setter) ve siliciler** adı verilen **özel metotlar** kullanarak bu niteliklerle çalışmaları gerektiğini belirtmelidir. Nesne nitelikleriyle neler yapabileceğimizi hatırlamalıyız:\n",
    "\n",
    "- Getting an attribute value: obj.field_name;\n",
    "- Setting an attribute value: obj.field_name = new_value;\n",
    "- Attribute deleting: del obj.field_name"
   ]
  },
  {
   "cell_type": "markdown",
   "metadata": {},
   "source": [
    "### <a id=\"5.3.2\">5.3.2 Çocuk Sınıflardan Özel Nitelikleri Çağırma</a>\n",
    "\n",
    "Kalıtım sırasında özel niteliklerin nasıl davrandığını bulalım. GameCharacter sınıfında özel bir nitelik tanımladık **\\_\\_counter.** Bu niteliğe erişebilmek için **get_counter()** adında özel bir metot oluşturalım. Sonra bir çocuk sınıfı Witcher oluşturup özel niteliği çağırmayı deneyelim."
   ]
  },
  {
   "cell_type": "code",
   "execution_count": 45,
   "metadata": {},
   "outputs": [
    {
     "ename": "AttributeError",
     "evalue": "'Witcher' object has no attribute '__counter'",
     "output_type": "error",
     "traceback": [
      "\u001b[1;31m---------------------------------------------------------------------------\u001b[0m",
      "\u001b[1;31mAttributeError\u001b[0m                            Traceback (most recent call last)",
      "\u001b[1;32m<ipython-input-45-fc879ce4e30e>\u001b[0m in \u001b[0;36m<module>\u001b[1;34m\u001b[0m\n\u001b[0;32m     28\u001b[0m \u001b[1;33m\u001b[0m\u001b[0m\n\u001b[0;32m     29\u001b[0m \u001b[1;31m# let's try calling __counter via the child object\u001b[0m\u001b[1;33m\u001b[0m\u001b[1;33m\u001b[0m\u001b[1;33m\u001b[0m\u001b[0m\n\u001b[1;32m---> 30\u001b[1;33m \u001b[0mgeralt\u001b[0m\u001b[1;33m.\u001b[0m\u001b[0m__counter\u001b[0m\u001b[1;33m\u001b[0m\u001b[1;33m\u001b[0m\u001b[0m\n\u001b[0m",
      "\u001b[1;31mAttributeError\u001b[0m: 'Witcher' object has no attribute '__counter'"
     ]
    }
   ],
   "source": [
    "class GameCharacter:\n",
    "    \n",
    "    __counter = 0\n",
    "\n",
    "    def __init__(self, name, hair_color, height):\n",
    "        self.__name = name\n",
    "        self.__hair_color = hair_color\n",
    "        self.__height = height\n",
    "        self.__class__.__counter += 1\n",
    "    \n",
    "    def __del__(self):\n",
    "        self.__class__.__counter -= 1\n",
    "    \n",
    "    # For accessing the private attribute\n",
    "    def get_counter(self):\n",
    "        return self.__counter  \n",
    "    \n",
    "class Witcher(GameCharacter):\n",
    "    \n",
    "    def __init__(self, name, hair_color, height, witcher_school = 'Wolf'):\n",
    "        super().__init__(name, hair_color, height)\n",
    "        self.witcher_school = witcher_school\n",
    "        \n",
    "    def greeting(self):\n",
    "        return 'I am the Witcher and I am Looking for the Monsters!'\n",
    "    \n",
    "geralt = Witcher(name = 'Geralt', hair_color = 'White', height = 180)\n",
    "\n",
    "# let's try calling __counter via the child object\n",
    "geralt.__counter"
   ]
  },
  {
   "cell_type": "markdown",
   "metadata": {},
   "source": [
    "Yukarıdaki hata, **\\_\\_counter** özel niteliğinin kullanılamaz hale geldiğini ve bir alt sınıftan niteliği çağırmanın imkansız olduğunu söylüyor. Bunun nedeni, özel bir nitelik tanımlandıktan sonra, adı değişir ve ait olduğu bir sınıfın önekine sahip olur. Bizim durumumuzda, GameCharacter sınıfına aittir, dolayısıyla adı o sınıfın bir önekine sahip olmalıdır.\n",
    "\n",
    "Witcher sınıfının yerel özelliklerini bulalım."
   ]
  },
  {
   "cell_type": "code",
   "execution_count": 46,
   "metadata": {
    "execution": {
     "iopub.execute_input": "2020-10-27T06:56:06.608974Z",
     "iopub.status.busy": "2020-10-27T06:56:06.607822Z",
     "iopub.status.idle": "2020-10-27T06:56:06.612181Z",
     "shell.execute_reply": "2020-10-27T06:56:06.611526Z"
    },
    "papermill": {
     "duration": 0.117117,
     "end_time": "2020-10-27T06:56:06.612313",
     "exception": false,
     "start_time": "2020-10-27T06:56:06.495196",
     "status": "completed"
    },
    "tags": []
   },
   "outputs": [
    {
     "data": {
      "text/plain": [
       "mappingproxy({'__module__': '__main__',\n",
       "              '__init__': <function __main__.Witcher.__init__(self, name, hair_color, height, witcher_school='Wolf')>,\n",
       "              'greeting': <function __main__.Witcher.greeting(self)>,\n",
       "              '__doc__': None,\n",
       "              '_GameCharacter__counter': 1})"
      ]
     },
     "execution_count": 46,
     "metadata": {},
     "output_type": "execute_result"
    }
   ],
   "source": [
    "Witcher.__dict__"
   ]
  },
  {
   "cell_type": "markdown",
   "metadata": {
    "papermill": {
     "duration": 0.128672,
     "end_time": "2020-10-27T06:56:06.854641",
     "exception": false,
     "start_time": "2020-10-27T06:56:06.725969",
     "status": "completed"
    },
    "tags": []
   },
   "source": [
    "Özel nitelik **\\_\\_counter** adının **\\_GameCharacter__counter.** olarak değiştiği açıkça görülüyor. Bu nedenle, bu özelliğe Witcher sınıfından erişemiyoruz, özelliğin başka bir öneki var!\n",
    "\n",
    "Bu özelliğe yalnızca miras alınan metotu kullanarak erişebiliriz **get_counter()**"
   ]
  },
  {
   "cell_type": "code",
   "execution_count": 47,
   "metadata": {
    "execution": {
     "iopub.execute_input": "2020-10-27T06:56:07.077218Z",
     "iopub.status.busy": "2020-10-27T06:56:07.076198Z",
     "iopub.status.idle": "2020-10-27T06:56:07.080719Z",
     "shell.execute_reply": "2020-10-27T06:56:07.080135Z"
    },
    "papermill": {
     "duration": 0.118259,
     "end_time": "2020-10-27T06:56:07.080896",
     "exception": false,
     "start_time": "2020-10-27T06:56:06.962637",
     "status": "completed"
    },
    "tags": []
   },
   "outputs": [
    {
     "data": {
      "text/plain": [
       "1"
      ]
     },
     "execution_count": 47,
     "metadata": {},
     "output_type": "execute_result"
    }
   ],
   "source": [
    "geralt.get_counter()"
   ]
  },
  {
   "cell_type": "markdown",
   "metadata": {},
   "source": [
    "Herşey güzel çalışıyor. Özel nitelikler söz konusu olduğunda, bunların yalnızca **get()** yöntemleriyle çağrılabileceğini lütfen unutmayın."
   ]
  },
  {
   "cell_type": "markdown",
   "metadata": {
    "papermill": {
     "duration": 0.112601,
     "end_time": "2020-10-27T06:56:07.303264",
     "exception": false,
     "start_time": "2020-10-27T06:56:07.190663",
     "status": "completed"
    },
    "tags": []
   },
   "source": [
    "\n",
    "### <a id=\"5.3.2.1\"><a id=\"5.3.2.0\"><a id=\"5.3.3\">5.3.3 Sarmalanmış nitelikleri Alma, Ayarlama ve Silme</a></a></a>\n",
    "\n",
    "Sarmalanmış nitelikleri çağırmak için, sınıfta **get/set/delete** gibi yöntemler tanımlamamız gerekir. Ayrıca, **set** yöntemi yardımıyla hangi türlerin nitelik değerleri olarak izin verildiğini kontrol edebiliriz. Öncelikle, bu yöntemleri **\\_\\_counter** niteliği için uygulayalım."
   ]
  },
  {
   "cell_type": "code",
   "execution_count": 48,
   "metadata": {
    "execution": {
     "iopub.execute_input": "2020-10-27T06:56:07.534230Z",
     "iopub.status.busy": "2020-10-27T06:56:07.533413Z",
     "iopub.status.idle": "2020-10-27T06:56:07.538080Z",
     "shell.execute_reply": "2020-10-27T06:56:07.537303Z"
    },
    "papermill": {
     "duration": 0.127906,
     "end_time": "2020-10-27T06:56:07.538216",
     "exception": false,
     "start_time": "2020-10-27T06:56:07.410310",
     "status": "completed"
    },
    "tags": []
   },
   "outputs": [
    {
     "name": "stdout",
     "output_type": "stream",
     "text": [
      "Initial Number of Created Game Characters:  2\n",
      "Current Number of Created Game Characters:  1\n",
      "New Counter Value:  42\n",
      "Counter Has Been Deleted\n"
     ]
    }
   ],
   "source": [
    "class GameCharacter:\n",
    " \n",
    "    __counter = 0\n",
    "\n",
    "    def __init__(self, name, hair_color, height):\n",
    "        self.__name = name\n",
    "        self.__hair_color = hair_color\n",
    "        self.__height = height\n",
    "        \n",
    "        self.__class__.__counter += 1\n",
    "        \n",
    "    def __del__(self):\n",
    "        self.__class__.__counter -= 1\n",
    "        \n",
    "    # Define the getter\n",
    "    def get_counter(self):\n",
    "        return self.__class__.__counter\n",
    "   \n",
    "    # Define the setter\n",
    "    def set_counter(self, new_value):\n",
    "        # Only int is allowed\n",
    "        if isinstance(new_value, int):\n",
    "            self.__class__.__counter = new_value\n",
    "        else:\n",
    "            raise TypeError('Counter Must Be Int!')\n",
    "      \n",
    "    # Define the deleter\n",
    "    def drop_counter(self):\n",
    "        print('Counter Has Been Deleted')\n",
    "        del self.__class__.__counter\n",
    "\n",
    "# Awesome, now we can keep track of created characters. Let's check that:\n",
    "geralt = GameCharacter(name = 'Geralt', hair_color = 'White', height = 180)\n",
    "ciri = GameCharacter(name = 'Ciri', hair_color = 'White', height = 180)\n",
    "\n",
    "# Let's call the getter\n",
    "print('Initial Number of Created Game Characters: ', ciri.get_counter() )\n",
    "\n",
    "# let's delete an object and make sure that __counter is working properly\n",
    "del geralt\n",
    "print('Current Number of Created Game Characters: ', ciri.get_counter() )\n",
    "\n",
    "# let's call the setter\n",
    "ciri.set_counter(42)\n",
    "print('New Counter Value: ', ciri.get_counter())\n",
    "\n",
    "# Let's call the deleter\n",
    "ciri.drop_counter()"
   ]
  },
  {
   "cell_type": "markdown",
   "metadata": {},
   "source": [
    "Mükemmel, alıcılar, ayarlayıcılar ve siliciler çalışıyor gibi görünüyor. Ancak, bu yöntemler yalnızca **\\_\\_counter** için çalışır.\n",
    "\n",
    "Geri kalan özellikler için çalışmayacaklar ör. **\\_\\_name, \\_\\_hair_color ve \\__height**. Çözüm olarak, her özel nitelik için bireysel ayarlayıcılar, alıcılar ve siliciler oluşturabiliriz, ancak bu **KURU anlayışıyla çelişir** (Kendinizi Tekrar Etmeyin).\n",
    "\n",
    "Neyse ki, **tanımlayıcılar(descriptors)** adı verilen bir çözüm var.\n",
    "\n",
    "Tanımlayıcılar alıcıların, ayarlayıcıların ve silicilerin yalnızca bir kez yazılmasına izin verir ve tekrarlamayı önler(<a href='#10.0'>10. Tanımlayıcılar</a>). Dahası, alıcıları, ayarlayıcıları ve silicileri tanımlama şeklimiz tek değil ve en iyisi değil. Sınıf/bezeyici **özelliğine** dayalı daha \"kullanışlı\" yollar vardır.\n",
    "\n",
    "Sınıf özelliği için: (<a href='#9.7.1'>9.7.1 Özellik Sınıfı Uygulaması</a>)"
   ]
  },
  {
   "cell_type": "markdown",
   "metadata": {},
   "source": [
    "### <a id=\"5.4\">5.4 Bu Bölümün Anahtar Noktaları</a>\n",
    "\n",
    "- **Çocuk sınıf** ebeveyn yöntemlerini ve niteliklerini miras alır;\n",
    "- **Çocuk metot** ebeveynler tarafından genişletilebilir;\n",
    "- **Çokbiçimlilik** - aynı yöntem adı ancak farklı mantık;\n",
    "- Nitelikler ve metotlar sarmalanabilir (public, protected ve private);\n",
    "- Protected ve Public nitelikler are **benzerdir;**\n",
    "- Private nitelikleri çağırmak için **alıcılar ve ayarlayıcılar** tanımlarız."
   ]
  },
  {
   "cell_type": "markdown",
   "metadata": {
    "papermill": {
     "duration": 0.109405,
     "end_time": "2020-10-27T06:56:07.756687",
     "exception": false,
     "start_time": "2020-10-27T06:56:07.647282",
     "status": "completed"
    },
    "tags": []
   },
   "source": [
    "### <a id=\"6\">6. Örnek, Sınıf ve Statik Metotlar</a>\n",
    "\n",
    "Tüm metotların bir sınıfın tüm niteliklerine erişemeyeceğini bilmek önemlidir. Bazı metotlar yalnızca bir sınıfın durumunu değiştirirken diğerleri nesnelerin durumunu değiştirebilir. Bu **metotların farklı bir değişken kapsamı** vardır ve aralarındaki farkı anlamak çok önemlidir!"
   ]
  },
  {
   "cell_type": "markdown",
   "metadata": {},
   "source": [
    "### <a id=\"6.1\">6.1 Sınıf Metotları</a>\n",
    "\n",
    "Sınıf metoduyla başlayalım. Metodun adı üstündedir. **Sınıfı argüman olarak** alırlar ve şöyle bir bezeyiciye sahiptirler: **@classmethod**. Bu metotlar yalnızca bir sınıfın durumunu değiştirebilir çünkü nesne nitelikleri onlar için mevcut değildir(bu yöntemler kendi kendini bir argüman olarak alamaz). Basit olması için, sarmalanmış sınıf niteliğine **\\_\\_counter**'a geri dönelim.\n",
    "\n",
    "Daha önce iki özel metot tanımlamıştık **set_counter()** ve **get_counter().** Şimdi onları sınıf metotları yapalım."
   ]
  },
  {
   "cell_type": "code",
   "execution_count": 1,
   "metadata": {
    "execution": {
     "iopub.execute_input": "2020-10-27T06:56:07.987105Z",
     "iopub.status.busy": "2020-10-27T06:56:07.986215Z",
     "iopub.status.idle": "2020-10-27T06:56:07.998075Z",
     "shell.execute_reply": "2020-10-27T06:56:07.997250Z"
    },
    "papermill": {
     "duration": 0.130055,
     "end_time": "2020-10-27T06:56:07.998224",
     "exception": false,
     "start_time": "2020-10-27T06:56:07.868169",
     "status": "completed"
    },
    "tags": []
   },
   "outputs": [
    {
     "name": "stdout",
     "output_type": "stream",
     "text": [
      "Total Number of Created Objects:  2\n",
      "Changed Number of Created Objects:  10\n"
     ]
    }
   ],
   "source": [
    "# The same class\n",
    "class GameCharacter:\n",
    "    \n",
    "    __counter = 0\n",
    "    \n",
    "    # The same constructor \n",
    "    def __init__(self, name, hair_color, height):\n",
    "        self.name = name\n",
    "        self.hair_color = hair_color\n",
    "        self.height = height\n",
    "\n",
    "        self.__class__.__counter += 1\n",
    "        \n",
    "    # Make the following methods class methods\n",
    "    @classmethod\n",
    "    def get_counter(cls):\n",
    "        return cls.__counter\n",
    "        \n",
    "    @classmethod\n",
    "    def set_counter(cls, new_value):\n",
    "        cls.__counter = new_value\n",
    "        return cls.__counter\n",
    "    \n",
    "geralt = GameCharacter(name = 'Geralt', hair_color = 'White', height = 180)\n",
    "ciri = GameCharacter(name = 'Ciri', hair_color = 'White', height = 180)\n",
    "\n",
    "# Let's call these methods\n",
    "print('Total Number of Created Objects: ', GameCharacter.get_counter())\n",
    "print(\"Changed Number of Created Objects: \", GameCharacter.set_counter(10))"
   ]
  },
  {
   "cell_type": "markdown",
   "metadata": {},
   "source": [
    "Daha önce bu metotlar ne bir nesneyi ne de doğru olmayan bir sınıfı kabul ediyordu. Sınıf niteliğini almak ve değiştirmekten **get_counter()** ve **set_counter()** metotları sorumludur. Bu nedenle, bunlar bir **sınıf metodu** olmalıdır. Mevcut uygulama artık daha uygundur ve kod, ilk bakışta daha fazla ayrıntı verir(bezeyiciler bu metotların bu sınıfa ait olduğunu belirtir)"
   ]
  },
  {
   "cell_type": "markdown",
   "metadata": {
    "papermill": {
     "duration": 0.111616,
     "end_time": "2020-10-27T06:56:08.220824",
     "exception": false,
     "start_time": "2020-10-27T06:56:08.109208",
     "status": "completed"
    },
    "tags": []
   },
   "source": [
    "### <a id=\"6.2\">6.2 Statik Methotlar</a>\n",
    "\n",
    "Bu yöntemler **ne nesneleri ne de sınıfları argüman olarak alır**. Bu nedenle, niteliklerinin kapsamı güçlü bir şekilde sınırlandırılmıştır. Sınıf ve nesne nitelikleri **onlar için mevcut değildir** ve sınıf ve nesnelerin durumunu **değiştiremezler**. Yalnızca içlerinde tanımlanan argümanları çalıştırabilirler. Statik yöntemlerin temel avantajı, **sınıflara ve nesnelere bağlı olmamalarıdır.** Ayrıca, herhangi bir nesne oluşturulmadan doğrudan bir sınıf aracılığıyla çağrılabilirler. Bu metotları, nesneler aracılığıyla çağırmak da mümkündür.\n",
    "\n",
    "Statik yöntemleri özel bir bezeyici **@staticmethod** yardımıyla tanımlayabiliriz.\n",
    "\n",
    "**self** parametresi olmayan bir metot görürseniz, bunu statik veya sınıf yöntemi yapmak iyi bir fikirdir.\n",
    "\n",
    "Bir oyun karakterinin rastgele oluşan yaşı için **@staticmethod** oluşturalım."
   ]
  },
  {
   "cell_type": "code",
   "execution_count": 2,
   "metadata": {
    "execution": {
     "iopub.execute_input": "2020-10-27T06:56:08.455339Z",
     "iopub.status.busy": "2020-10-27T06:56:08.454426Z",
     "iopub.status.idle": "2020-10-27T06:56:08.458581Z",
     "shell.execute_reply": "2020-10-27T06:56:08.457609Z"
    },
    "papermill": {
     "duration": 0.125882,
     "end_time": "2020-10-27T06:56:08.458711",
     "exception": false,
     "start_time": "2020-10-27T06:56:08.332829",
     "status": "completed"
    },
    "tags": []
   },
   "outputs": [
    {
     "name": "stdout",
     "output_type": "stream",
     "text": [
      "Age of a game character:  52\n"
     ]
    }
   ],
   "source": [
    "import numpy as np\n",
    "np.random.seed(42)\n",
    "\n",
    "class GameCharacter:\n",
    "    \n",
    "    # Define the static method first\n",
    "    @staticmethod \n",
    "    def generate_random_number():\n",
    "        return np.random.randint(1,100,1)[0]\n",
    "    \n",
    "    # Define the constructor where age will be randomly generated by the static method\n",
    "    def __init__(self, name, hair_color, height):\n",
    "        self.name = name\n",
    "        self.hair_color = hair_color\n",
    "        self.height = height\n",
    "        # static methods available for both objects and classes.\n",
    "        # Let's call the method via the class\n",
    "        self.age = self.__class__.generate_random_number()\n",
    "\n",
    "random_character = GameCharacter(name = 'Bob', hair_color = 'Grey', height = 188)\n",
    "print('Age of a game character: ', random_character.age)"
   ]
  },
  {
   "cell_type": "markdown",
   "metadata": {},
   "source": [
    "**generate_random_number()** metodu argüman olarak ne bir nesneyi ne de bir sınıfı alır. Ek olarak, rastgele yaş değerleri oluşturmak için bu metodu kurucuya aktarmayı da başardık. Statik metotlar, bazı hesaplamalardan sorumlu olacak ve nesnelerin veya sınıfların durumlarını değiştirmeyecek fonksiyonlara ihtiyacınız varsa iyi bir seçim olabilir. Bu gerçekler, statik yöntemleri **daha kararlı ve güvenilir kılar.**"
   ]
  },
  {
   "cell_type": "markdown",
   "metadata": {
    "papermill": {
     "duration": 0.109975,
     "end_time": "2020-10-27T06:56:08.678227",
     "exception": false,
     "start_time": "2020-10-27T06:56:08.568252",
     "status": "completed"
    },
    "tags": []
   },
   "source": [
    "### <a id=\"6.3\">6.3 Örnek Metotları</a>\n",
    "\n",
    "Bunlara zaten aşinayız. **self argümanını** alırlar (yani, bir nesneyi açıkça(explicitly) alırlar). Nesnelerin erişim ve kontrol niteliklerine sahip olmalarını sağlarlar. Ek olarak, şu sözdizimi ile: **self.\\_\\_Class__**, sınıf niteliklerine erişebilir ve bunları da işleyebilirler. Bütün bunlar onları bir sınıftaki en güçlü metotlar yapar. Örnek metotların esnekliğini ve gücünü bu şekilde göstermek için şu örneğe bakalım:"
   ]
  },
  {
   "cell_type": "code",
   "execution_count": 3,
   "metadata": {
    "execution": {
     "iopub.execute_input": "2020-10-27T06:56:08.918165Z",
     "iopub.status.busy": "2020-10-27T06:56:08.917346Z",
     "iopub.status.idle": "2020-10-27T06:56:08.921767Z",
     "shell.execute_reply": "2020-10-27T06:56:08.920684Z"
    },
    "papermill": {
     "duration": 0.133125,
     "end_time": "2020-10-27T06:56:08.921951",
     "exception": false,
     "start_time": "2020-10-27T06:56:08.788826",
     "status": "completed"
    },
    "tags": []
   },
   "outputs": [
    {
     "name": "stdout",
     "output_type": "stream",
     "text": [
      "Geralt has been successfully created\n",
      "Available Signs:  ('Axii', 'Qven', 'Ignii', 'Aard', 'Yrden')\n",
      "Randomly picked sign:  Axii\n",
      "\n",
      "\n",
      "The Sword Was Bared!\n",
      "Sign Ignii Is Ready\n"
     ]
    }
   ],
   "source": [
    "import random \n",
    "\n",
    "class GameCharacter:\n",
    "    \n",
    "    # Define class attributes assuming that the age of a game character\n",
    "    # is in the range from 1 to 100 and make them private\n",
    "    __counter = 0\n",
    "    __min_age = 1\n",
    "    __max_age = 100\n",
    "    \n",
    "    # Add new the attribute age in the costructor. \n",
    "    # Now let's demonstrate how powerfult the self is\n",
    "    def __init__(self, name, hair_color, height, age):\n",
    "        \n",
    "        # Don't change\n",
    "        self.name = name\n",
    "        self.hair_color = hair_color\n",
    "        self.height = height\n",
    "        \n",
    "        # Let's allow to create a game character if the age is in the range\n",
    "        # attributes  __min_age and __max_age are private and belong to the class\n",
    "        # but we can call them anyway\n",
    "        if age >= self.__class__.__min_age and age <= self.__class__.__max_age:\n",
    "            print(f'{self.name} has been successfully created')\n",
    "            self.__class__.__counter += 1\n",
    "            \n",
    "        # Raise Value Error for inappropriate age\n",
    "        else:\n",
    "            raise ValueError\n",
    "            \n",
    "class Witcher(GameCharacter):\n",
    "    \n",
    "    # Previously it was a method. Let's make it a private attribute now \n",
    "    __signs = ('Axii', 'Qven', 'Ignii', 'Aard', 'Yrden')\n",
    "\n",
    "    # Define the constructor of the class\n",
    "    def __init__(self, name, hair_color, height, age, witcher_school = 'Wolf'):\n",
    "        super().__init__(name, hair_color, height, age)\n",
    "        self.witcher_school = witcher_school\n",
    "        # Create a new attribute of an object\n",
    "        self.signs = self.__class__.__signs\n",
    "    \n",
    "    # Randomy picks some sign\n",
    "    def pick_sign(self):\n",
    "        sign_number = random.sample(range(0,len(self.signs)),1)[0]\n",
    "        return self.signs[sign_number]\n",
    "    \n",
    "    # Attack method\n",
    "    def attack(self):\n",
    "        print('The Sword Was Bared!')\n",
    "        print(f'Sign {self.pick_sign()} Is Ready')\n",
    "           \n",
    "geralt = Witcher(name = 'Geralt', hair_color = 'White', height = 180, age = 48)\n",
    "\n",
    "# Let's call a new attribute\n",
    "print('Available Signs: ', geralt.signs)\n",
    "\n",
    "# Let's call new methods\n",
    "print('Randomly picked sign: ', geralt.pick_sign())\n",
    "print('\\n')\n",
    "geralt.attack()"
   ]
  },
  {
   "cell_type": "markdown",
   "metadata": {},
   "source": [
    "Kodda neler olduğunu açıklayalım izin verin. Öncelikle, **uygun yaş belirtilmesi** koşuluyla yeni bir oyun karakteri oluşturulmasına izin verilir. ** Bu amaçla, **özel nitelikler olan \\_\\_min_age ve \\__max_age** oluşturduk.\n",
    "\n",
    "**\\_\\_init__()** metodu bir örnek metodu olduğundan, sınıfın niteliklerine erişimi vardır, bu nedenle özel bir sözdizimi kullanarak **\\_\\_min_age ve \\__max_age** çağırabiliriz: \n",
    "\n",
    "Bu kez Witcher sınıfının **\\_\\_signs** (işaret isimleri olan bir çokuz) adlı kendi özel niteliği vardı. Witcher sınıfının kurucusu ebeveyn sınıfı tarafından genişletilir ve **signs adı verilen yeni bir niteliğe sahiptir.** Bu yeni bir nesne özelliğidir. İki yeni metot tanımlanır. Burada en ilginç olanı, bu iki metodun sınıflardan nitelikleri ve nesne niteliklerini kullanmasıdır (yani örnek metotlarının hem nesne hem de sınıf niteliklerine erişimi vardır). Örnek yöntemlerinin neden bu kadar güçlü ve esnek olduğunu anlaşılmıştır."
   ]
  },
  {
   "cell_type": "markdown",
   "metadata": {
    "papermill": {
     "duration": 0.111864,
     "end_time": "2020-10-27T06:56:09.145273",
     "exception": false,
     "start_time": "2020-10-27T06:56:09.033409",
     "status": "completed"
    },
    "tags": []
   },
   "source": [
    "### <a id=\"6.4\">6.4 Bu Bölümün Anahtar Noktaları</a>\n",
    "\n",
    "- Sınıf metotları **bir sınıfı argüman olarak** alır ve **tüm sınıf niteliklerine erişebilirler**\n",
    "- Sınıf metodu tanımlamak için **@classmethod** kullanırız.\n",
    "- Sınıf metotları **sınıfın durumunu(niteliklerini) değiştirmek** için kullanılır.\n",
    "- Statik metotlar **ne sınıf ne de nesneyi argüman olarak** alırlar ve sınıf ve nesne niteliklerine erişemezler.\n",
    "- Statik metot tanımlamak için **@staticmethod** kullanırız.\n",
    "- Örnek metotları bir nesneyi argüman olarak alırlar ve hem sınıf hem de nesne niteliklerine erişimleri vardır."
   ]
  },
  {
   "cell_type": "markdown",
   "metadata": {},
   "source": [
    "### <a id=\"7\">7. Metot ve İşlemcilerin Aşırı Yüklenmesi (Overloading)</a>\n",
    "\n",
    "Burada anahtar kelimeler **işlemciler(operator)**(yani +, -, / vb) ve **fonksiyonlar** olacak. Şimdilik bilmemiz gereken tek şey, aşırı yüklemenin(overloading) belirli bir operatörün veya bir işlevin mantığını veya davranışını değiştirmemize yardımcı olmasıdır.\n",
    "\n",
    "Metotların aşırı yüklenmesine bir göz atalım.\n",
    "\n",
    "\n",
    "### <a id=\"7.1\">7.1 Methot Aşırı Yüklenmesi</a>\n",
    "\n",
    "Bu güzel bir konudur çünkü fonksiyonlarımızı/kodumuzu esnek hale getiriyor. Gelen parametrelere bağlı olarak bir fonksiyonun davranışını kontrol etmek istediğimiz durumlarla onlarca kez karşılaşırız. Bir çizim fonksiyonu geliştirdiğimizi ve bir göstergeyi, bir grafiğin güven aralıklarını veya bir çizim türünün görüntülenip görüntülenmeyeceğini kontrol etmek istediğimizi hayal edin. Bu amaçla, fonksiyonun davranışını değiştirdiğimize bağlı olarak parametreleri tanımlarız veya bunlara tetikleyiciler(trigger) diyelim (örneğin, şu parametreleri tanımlayabiliriz: show legend = True, show_conf_intervals = True. Bu parametreleri True / False olarak değiştirmek, fonksiyon davranışını değiştirmek, tam olarak istediğimiz şey). Muhtemelen metotların aşırı yüklenmesi hakkında bilmemiz gereken tek şey bu.\n",
    "\n",
    "Bir metodu aşırı yüklemek için sadece varsayılan değerlerle bir dizi parametre tanımlayalım. Bunlara **state** diyelim.\n",
    "\n",
    "Varsayılan durum değerleri olarak: **True/False veya None** kullanılabilir.\n",
    "\n",
    "Witcher sınıfı için bir **attack()** metodu tanımlayalım ve aşırı yükleyelim. Oyunda canavarlar için gümüş kılıç ve insanlar için olağan bir kılıç kullanıyoruz."
   ]
  },
  {
   "cell_type": "code",
   "execution_count": 4,
   "metadata": {
    "execution": {
     "iopub.execute_input": "2020-10-27T06:56:09.381430Z",
     "iopub.status.busy": "2020-10-27T06:56:09.380544Z",
     "iopub.status.idle": "2020-10-27T06:56:09.385802Z",
     "shell.execute_reply": "2020-10-27T06:56:09.385039Z"
    },
    "papermill": {
     "duration": 0.130723,
     "end_time": "2020-10-27T06:56:09.385950",
     "exception": false,
     "start_time": "2020-10-27T06:56:09.255227",
     "status": "completed"
    },
    "tags": []
   },
   "outputs": [
    {
     "name": "stdout",
     "output_type": "stream",
     "text": [
      "Geralt has been successfully created\n",
      "Bare Usual Sword\n",
      "Sign Yrden Is Ready\n",
      "\n",
      "\n",
      "Bare Silver Sword\n",
      "Sign Axii Is Ready\n"
     ]
    }
   ],
   "source": [
    "class Witcher(GameCharacter):\n",
    "    \n",
    "    __signs = ('Axii', 'Qven', 'Ignii', 'Aard', 'Yrden')\n",
    "    \n",
    "    def __init__(self, name, hair_color, height, age, witcher_school = 'Wolf'):\n",
    "        super().__init__(name, hair_color, height, age)\n",
    "        self.witcher_school = witcher_school\n",
    "        self.signs = self.__class__.__signs\n",
    "        \n",
    "    def pick_sign(self):\n",
    "        sign_number = random.sample(range(0,len(self.signs)),1)[0]\n",
    "        return self.signs[sign_number]\n",
    "        \n",
    "    # let's overload this method \n",
    "    def attack(self, is_monster = False):\n",
    "        if is_monster == True:\n",
    "            return f'Bare Silver Sword\\nSign {self.pick_sign()} Is Ready'\n",
    "        else:\n",
    "            return f'Bare Usual Sword\\nSign {self.pick_sign()} Is Ready'\n",
    "    \n",
    "geralt = Witcher(name = 'Geralt', hair_color = 'White', height = 180, age = 48)\n",
    "\n",
    "# For people set is_monster by default (it's switched off)\n",
    "print(geralt.attack())\n",
    "print('\\n')\n",
    "\n",
    "# For Monsters set is_monster = True (switch it on)\n",
    "print(geralt.attack(is_monster=True))"
   ]
  },
  {
   "cell_type": "markdown",
   "metadata": {
    "papermill": {
     "duration": 0.110825,
     "end_time": "2020-10-27T06:56:09.608551",
     "exception": false,
     "start_time": "2020-10-27T06:56:09.497726",
     "status": "completed"
    },
    "tags": []
   },
   "source": [
    "Gördüğünüz gibi hiç de zor değil. **attack()** fonksiyonunun mantığını **is_monster** argümanını **açıp kapatarak** kontrol ettik. Metot aşırı yüklemesi bu şekilde çalışır. İstediğiniz kadar durum veya değiştirici tanımlayabilirsiniz, ancak konsept aynı olacaktır: **Parametrelerin başlangıç durumuna bağlı olarak farklı fonksiyon mantığıdır bu.**\n",
    "\n",
    "**Özel fonksiyonu** aşırı yükledik çünkü bizim tarafımızdan tanımlandı, ancak **yerleşik(default) fonksiyonları aşırı yüklemek istiyorsak ne yapmalıyız?**\n",
    "\n",
    "Peki, sadece şu yerleşik fonksiyonu yazın ve istediğinizi yapmasını sağlayın. Yerleşik fonksiyonların çok büyük bir listesi vardır ve bunları Python belgelerinde bulabilirsiniz:\n",
    "\n",
    "- https://docs.python.org/3/reference/datamodel.html\n",
    "- https://docs.python.org/3/library/functions.html\n",
    "\n",
    "**Sihirli metotlar** listesi: https://www.tutorialsteacher.com/python/magic-methods-in-python\n",
    "\n",
    "**\\_\\_str__()** sihirli metodunu aşırı yükleyelim. Bu metodun aşırı yüklenmesi, bir dizge olarak nesne ismi alınmışsa ne döndürmesi gerektiğini tanımlamaya izin verir."
   ]
  },
  {
   "cell_type": "code",
   "execution_count": 5,
   "metadata": {
    "execution": {
     "iopub.execute_input": "2020-10-27T06:56:09.838190Z",
     "iopub.status.busy": "2020-10-27T06:56:09.837349Z",
     "iopub.status.idle": "2020-10-27T06:56:09.842234Z",
     "shell.execute_reply": "2020-10-27T06:56:09.841369Z"
    },
    "papermill": {
     "duration": 0.121299,
     "end_time": "2020-10-27T06:56:09.842419",
     "exception": false,
     "start_time": "2020-10-27T06:56:09.721120",
     "status": "completed"
    },
    "tags": []
   },
   "outputs": [
    {
     "name": "stdout",
     "output_type": "stream",
     "text": [
      "<__main__.Witcher object at 0x0000021166961208>\n"
     ]
    }
   ],
   "source": [
    "print(geralt) "
   ]
  },
  {
   "cell_type": "markdown",
   "metadata": {
    "papermill": {
     "duration": 0.111169,
     "end_time": "2020-10-27T06:56:10.065858",
     "exception": false,
     "start_time": "2020-10-27T06:56:09.954689",
     "status": "completed"
    },
    "tags": []
   },
   "source": [
    "Muhtemelen nesneyi yazdırırken görmek istediğimiz şey bu değil. hadi bunu değiştirelim:"
   ]
  },
  {
   "cell_type": "code",
   "execution_count": 6,
   "metadata": {
    "execution": {
     "iopub.execute_input": "2020-10-27T06:56:10.301339Z",
     "iopub.status.busy": "2020-10-27T06:56:10.300435Z",
     "iopub.status.idle": "2020-10-27T06:56:10.304272Z",
     "shell.execute_reply": "2020-10-27T06:56:10.304973Z"
    },
    "papermill": {
     "duration": 0.127246,
     "end_time": "2020-10-27T06:56:10.305185",
     "exception": false,
     "start_time": "2020-10-27T06:56:10.177939",
     "status": "completed"
    },
    "tags": []
   },
   "outputs": [
    {
     "name": "stdout",
     "output_type": "stream",
     "text": [
      "Geralt has been successfully created\n",
      "This Is Geralt Object\n"
     ]
    }
   ],
   "source": [
    "class Witcher(GameCharacter):\n",
    "    \n",
    "    __signs = ('Axii', 'Qven', 'Ignii', 'Aard', 'Yrden')\n",
    "    \n",
    "    def __init__(self, name, hair_color, height, age, witcher_school = 'Wolf'):\n",
    "        super().__init__(name, hair_color, height, age)\n",
    "        self.witcher_school = witcher_school\n",
    "        self.signs = self.__class__.__signs\n",
    "     \n",
    "    # Overloading \n",
    "    def __str__(self):\n",
    "        return f'This Is {self.name} Object'\n",
    "    \n",
    "geralt = Witcher(name = 'Geralt', hair_color = 'White', height = 180, age = 48)\n",
    "print(geralt)"
   ]
  },
  {
   "cell_type": "markdown",
   "metadata": {
    "papermill": {
     "duration": 0.111834,
     "end_time": "2020-10-27T06:56:10.530823",
     "exception": false,
     "start_time": "2020-10-27T06:56:10.418989",
     "status": "completed"
    },
    "tags": []
   },
   "source": [
    "### <a id=\"7.2\">7.2 İşlemci Aşırı Yüklenmesi</a>\n",
    "\n",
    "Varsayılan işleminden ayrı olarak toplama, çarpma gibi işlemlerin mantığını değiştirir (örneğin sayılar eklenir, dizeler birleştirilir ve listeler birleştirilir). Buradaki en iyi ve basit örnek, muhtemelen başka bir noktayla eklemek istediğimiz bir noktanın koordinatlarıdır (yani, iki nesneyi birlikte ekleriz). Ama bu sadece bir örnektir ve yine bilgisayar oyununa geri dönelim.\n",
    "\n",
    "Oyunda, Witchers farklı iksirler yaratır. Onlara ekstra yetenekler ve güç verir. Birkaç iksir eklersek, etkilerini birleştirdiğimizi(combine) varsayalım. **Elixir** sınıfı oluşturacağız ve yapıcısına aşağıdaki nitelikleri aktaracağız:\n",
    "\n",
    "- Name: iksirin adı ( str );\n",
    "- Properties: bir iksirin sağladığı özellikler kümesi ( list );\n",
    "- Toxicity: her iksir, zararlı etkilere neden olan kendi toksikliğine sahiptir ( int , seconds);\n",
    "- Duration: her iksirin süresi ( int , seconds)\n",
    "\n",
    "Haydi başlayalım:"
   ]
  },
  {
   "cell_type": "code",
   "execution_count": 7,
   "metadata": {
    "execution": {
     "iopub.execute_input": "2020-10-27T06:56:10.771894Z",
     "iopub.status.busy": "2020-10-27T06:56:10.771047Z",
     "iopub.status.idle": "2020-10-27T06:56:10.778122Z",
     "shell.execute_reply": "2020-10-27T06:56:10.777270Z"
    },
    "papermill": {
     "duration": 0.135374,
     "end_time": "2020-10-27T06:56:10.778302",
     "exception": false,
     "start_time": "2020-10-27T06:56:10.642928",
     "status": "completed"
    },
    "tags": []
   },
   "outputs": [
    {
     "name": "stdout",
     "output_type": "stream",
     "text": [
      "Information About Thunder Elixir: \n",
      "Properties: ['Extra Power'] \n",
      "Toxicity: 25 \n",
      "Duration: 30\n",
      "\n",
      "\n",
      "Information About Cat Elixir: \n",
      "Properties: ['Night Vision'] \n",
      "Toxicity: 15 \n",
      "Duration: 240\n",
      "\n",
      "\n",
      "Combined Properties: ['Extra Power', 'Night Vision'] \n",
      "Total Toxicity: 40 \n",
      "Remaining Time: {'Thunder': 30, 'Cat': 240}\n"
     ]
    }
   ],
   "source": [
    "class Elixir:\n",
    "    \n",
    "    # Define constructor of the Class with the following attributes.\n",
    "    # All attributes will be private (encapsulated)\n",
    "    def __init__(self, name, properties, toxicity, duration):\n",
    "        self.__name = name\n",
    "        self.__properties = list(properties)\n",
    "        self.__toxicity = toxicity\n",
    "        self.__duration = duration\n",
    "        \n",
    "    # Define a method for extracting information for a particular elixir \n",
    "    def get_properties(self):\n",
    "    \n",
    "        print(f'Information About {self.__name} Elixir:',\n",
    "              f'\\nProperties: {self.__properties}',\n",
    "              f'\\nToxicity: {self.__toxicity}',\n",
    "              f'\\nDuration: {self.__duration}')\n",
    "        \n",
    "    # Let's overload add operator. \n",
    "    # Once again, we want add method to combine properties of elixirs,\n",
    "    # display total toxicity and duration of each elixir\n",
    "    def __add__(self, elixr_n):\n",
    "        combined_properties = self.__properties  + elixr_n.__properties\n",
    "        total_toxicity = self.__toxicity + elixr_n.__toxicity\n",
    "        duration_per_elixir = {self.__name:self.__duration,\n",
    "                               elixr_n.__name:elixr_n.__duration}\n",
    "        \n",
    "        print(f'Combined Properties: {combined_properties}',\n",
    "              f'\\nTotal Toxicity: {total_toxicity}',\n",
    "              f'\\nRemaining Time: {duration_per_elixir}')\n",
    "        \n",
    "    \n",
    "# Create 2 different elixirs\n",
    "thunder = Elixir(name = 'Thunder',\n",
    "                 properties = ['Extra Power'],\n",
    "                 toxicity = 25,\n",
    "                 duration = 30)\n",
    "\n",
    "cat = Elixir(name = 'Cat',\n",
    "             properties = ['Night Vision'],\n",
    "             toxicity = 15,\n",
    "             duration = 240)\n",
    "\n",
    "# Let's get info about the first elixir\n",
    "thunder.get_properties()\n",
    "print('\\n')\n",
    "\n",
    "# Let's get info about the second elixir\n",
    "cat.get_properties()\n",
    "print('\\n')\n",
    "\n",
    "# Combine properties of 2 elixirs:\n",
    "thunder + cat"
   ]
  },
  {
   "cell_type": "markdown",
   "metadata": {},
   "source": [
    "Harika, artık iksirleri manipüle edebilir ve özelliklerini birleştirebilir, toplam toksiklik değerini takip edebilir (yüksek değer Witcher'ı öldürebilir) ve her iksirin kalan süresini görebiliriz. Kulağa iyi geliyor. Ancak buradaki kodda sadece iki iksiri birleştirmek mümkün. Birçok iksiri birleştirmek için aşırı yükleme metodunu değiştirmelisiniz ... bunu size ev ödevi olarak bırakıyoruz.\n",
    "\n",
    "\n",
    "Ayrıca, burada ana aşırı yükleme işlemlerini bulabileceğiniz belgelere bir referans bırakmak istiyoruz:\n",
    "- https://docs.python.org/3/reference/datamodel.html ( Chapter 3.3.8. Emulating numeric types )\n",
    "\n",
    "Artı, metotlar ve işlemlerin aşırı yüklenmesi hakkında bir makale:\n",
    "- https://stackabuse.com/overloading-functions-and-operators-in-python/"
   ]
  },
  {
   "cell_type": "markdown",
   "metadata": {},
   "source": [
    "### <a id=\"7.3\">7.3 Bu Bölümün Anahtar Noktaları</a>\n",
    "\n",
    "- **Methot aşırı yükleme(overloading)** - argümanlarının parametrelerine bağlı olarak bir metodun farklı mantığı;\n",
    "- **İşlemci aşırı yükleme** - belirli işlemcilerin farklı davranışları (yani \\__add__( ), \\_\\_div__( ) vb);"
   ]
  },
  {
   "cell_type": "markdown",
   "metadata": {
    "papermill": {
     "duration": 0.112292,
     "end_time": "2020-10-27T06:56:11.003617",
     "exception": false,
     "start_time": "2020-10-27T06:56:10.891325",
     "status": "completed"
    },
    "tags": []
   },
   "source": [
    "### <a id=\"8\">8. \\*args ve **kwargs</a> \n",
    "\n",
    "Bunu anlamak için, **konumsal(positional)** ve **anahtar kelime(keywords) argümanları** kavramlarını anlamalıyız. \n",
    "\n",
    "Ayrı ayrı bakalım bunlara.\n",
    "\n",
    "### <a id=\"8.1\">8.1 \\*args</a> \n",
    "\n",
    "\\*args,  **argümanlar** anlamına gelir. **Rasgele uzunlukta bir dizi konumsal argüman oluşturmaya izin verir.** Buradaki temel işlemci **yıldız** iken **arg** sadece bir değişken adıdır ve herhangi bir isim olabilir. Yıldız operatörü **çokuz ve liste gibi nesne öğelerinin paketlenmesine yarar.** \\*args yardımıyla, fonksiyon esnekliği ve kararlılığı sağlayan bir fonksiyon için herhangi bir sayıda argüman sağlayabiliriz. Bir bakalım:"
   ]
  },
  {
   "cell_type": "code",
   "execution_count": 8,
   "metadata": {
    "execution": {
     "iopub.execute_input": "2020-10-27T06:56:11.237049Z",
     "iopub.status.busy": "2020-10-27T06:56:11.235978Z",
     "iopub.status.idle": "2020-10-27T06:56:11.241273Z",
     "shell.execute_reply": "2020-10-27T06:56:11.240499Z"
    },
    "papermill": {
     "duration": 0.125087,
     "end_time": "2020-10-27T06:56:11.241407",
     "exception": false,
     "start_time": "2020-10-27T06:56:11.116320",
     "status": "completed"
    },
    "tags": []
   },
   "outputs": [
    {
     "data": {
      "text/plain": [
       "6"
      ]
     },
     "execution_count": 8,
     "metadata": {},
     "output_type": "execute_result"
    }
   ],
   "source": [
    "# Ordinary function with fixed number of arguments \n",
    "def no_args_example(a,b,c):\n",
    "    return sum((a,b,c))\n",
    "\n",
    "no_args_example(1,2,3)"
   ]
  },
  {
   "cell_type": "code",
   "execution_count": 9,
   "metadata": {
    "execution": {
     "iopub.execute_input": "2020-10-27T06:56:11.484913Z",
     "iopub.status.busy": "2020-10-27T06:56:11.483670Z",
     "iopub.status.idle": "2020-10-27T06:56:11.488210Z",
     "shell.execute_reply": "2020-10-27T06:56:11.487590Z"
    },
    "papermill": {
     "duration": 0.132119,
     "end_time": "2020-10-27T06:56:11.488345",
     "exception": false,
     "start_time": "2020-10-27T06:56:11.356226",
     "status": "completed"
    },
    "tags": []
   },
   "outputs": [
    {
     "ename": "TypeError",
     "evalue": "no_args_example() takes 3 positional arguments but 4 were given",
     "output_type": "error",
     "traceback": [
      "\u001b[1;31m---------------------------------------------------------------------------\u001b[0m",
      "\u001b[1;31mTypeError\u001b[0m                                 Traceback (most recent call last)",
      "\u001b[1;32m<ipython-input-9-67b46dcf9319>\u001b[0m in \u001b[0;36m<module>\u001b[1;34m\u001b[0m\n\u001b[0;32m      1\u001b[0m \u001b[1;31m# Above function is not flexible because adding more arguments raises an error\u001b[0m\u001b[1;33m\u001b[0m\u001b[1;33m\u001b[0m\u001b[1;33m\u001b[0m\u001b[0m\n\u001b[1;32m----> 2\u001b[1;33m \u001b[0mno_args_example\u001b[0m\u001b[1;33m(\u001b[0m\u001b[1;36m1\u001b[0m\u001b[1;33m,\u001b[0m\u001b[1;36m2\u001b[0m\u001b[1;33m,\u001b[0m\u001b[1;36m3\u001b[0m\u001b[1;33m,\u001b[0m\u001b[1;36m4\u001b[0m\u001b[1;33m)\u001b[0m\u001b[1;33m\u001b[0m\u001b[1;33m\u001b[0m\u001b[0m\n\u001b[0m",
      "\u001b[1;31mTypeError\u001b[0m: no_args_example() takes 3 positional arguments but 4 were given"
     ]
    }
   ],
   "source": [
    "# Above function is not flexible because adding more arguments raises an error\n",
    "no_args_example(1,2,3,4)"
   ]
  },
  {
   "cell_type": "code",
   "execution_count": 10,
   "metadata": {
    "execution": {
     "iopub.execute_input": "2020-10-27T06:56:11.727115Z",
     "iopub.status.busy": "2020-10-27T06:56:11.726235Z",
     "iopub.status.idle": "2020-10-27T06:56:11.732564Z",
     "shell.execute_reply": "2020-10-27T06:56:11.731564Z"
    },
    "papermill": {
     "duration": 0.129689,
     "end_time": "2020-10-27T06:56:11.732806",
     "exception": false,
     "start_time": "2020-10-27T06:56:11.603117",
     "status": "completed"
    },
    "tags": []
   },
   "outputs": [
    {
     "name": "stdout",
     "output_type": "stream",
     "text": [
      "<class 'tuple'>\n"
     ]
    },
    {
     "data": {
      "text/plain": [
       "10"
      ]
     },
     "execution_count": 10,
     "metadata": {},
     "output_type": "execute_result"
    }
   ],
   "source": [
    "# Providing *args allows providing any number of argumets \n",
    "def args_example(*args):\n",
    "    print(type(args)) # for those who doesn't believe that *args returns a tuple\n",
    "    return sum(args)\n",
    "\n",
    "args_example(1,2,3,4)"
   ]
  },
  {
   "cell_type": "markdown",
   "metadata": {},
   "source": [
    "Görkemli bir şekilde \\*args, tüm konumsal argümanları bir demet halinde paketleyerek **herhangi bir sayıda argüman** sağlanmasına izin verir."
   ]
  },
  {
   "cell_type": "markdown",
   "metadata": {
    "papermill": {
     "duration": 0.115021,
     "end_time": "2020-10-27T06:56:11.968473",
     "exception": false,
     "start_time": "2020-10-27T06:56:11.853452",
     "status": "completed"
    },
    "tags": []
   },
   "source": [
    "### <a id=\"8.2\">8.2 **kwargs</a>\n",
    "\n",
    "\\*\\*kwargs, **anahtar kelime argümanları(keywords arguments)** anlamına gelir. İsteğe bağlı uzunlukta anahtar kelime argümanları için **bir sözlük oluşturmaya izin verir.** Buradaki ana işlemci çift yıldızdır, kwargs yine sadece bir değişken adıdır ve herhangi bir isim olabilir."
   ]
  },
  {
   "cell_type": "code",
   "execution_count": 1,
   "metadata": {
    "execution": {
     "iopub.execute_input": "2020-10-27T06:56:12.205483Z",
     "iopub.status.busy": "2020-10-27T06:56:12.204459Z",
     "iopub.status.idle": "2020-10-27T06:56:12.208941Z",
     "shell.execute_reply": "2020-10-27T06:56:12.207801Z"
    },
    "papermill": {
     "duration": 0.12535,
     "end_time": "2020-10-27T06:56:12.209087",
     "exception": false,
     "start_time": "2020-10-27T06:56:12.083737",
     "status": "completed"
    },
    "tags": []
   },
   "outputs": [
    {
     "name": "stdout",
     "output_type": "stream",
     "text": [
      "Remaining Gold:  750\n"
     ]
    }
   ],
   "source": [
    "# let's create a function with a fixed number of keyword arguments\n",
    "def no_kwargs_example(current_gold = 1000, item_price = 250):\n",
    "    return print('Remaining Gold: ', current_gold - item_price)\n",
    "no_kwargs_example()"
   ]
  },
  {
   "cell_type": "code",
   "execution_count": 2,
   "metadata": {
    "execution": {
     "iopub.execute_input": "2020-10-27T06:56:12.451881Z",
     "iopub.status.busy": "2020-10-27T06:56:12.450840Z",
     "iopub.status.idle": "2020-10-27T06:56:12.454600Z",
     "shell.execute_reply": "2020-10-27T06:56:12.455519Z"
    },
    "papermill": {
     "duration": 0.129548,
     "end_time": "2020-10-27T06:56:12.455731",
     "exception": false,
     "start_time": "2020-10-27T06:56:12.326183",
     "status": "completed"
    },
    "tags": []
   },
   "outputs": [
    {
     "name": "stdout",
     "output_type": "stream",
     "text": [
      "<class 'dict'>\n",
      "sun_rune was Bought. Remaining Gold: 750\n",
      "moon_rune was Bought. Remaining Gold: 300\n"
     ]
    }
   ],
   "source": [
    "# Again, providing a new keyword argument raises an error. To prevent this, let's use **kwargs\n",
    "# Let's assume that first argument is always current_gold whereas other arguments will be bought items\n",
    "def kwargs_example(**kwargs):\n",
    "    print(type(kwargs)) # to make sure that **kwargs return a dictionary \n",
    "    keys = list(kwargs.keys()) # save keys of the dictionary for later iterations\n",
    "    for key in keys[1:]:\n",
    "        if kwargs[keys[0]] >= kwargs[key]:\n",
    "            kwargs[keys[0]] -= kwargs[key]\n",
    "            print(f'{key} was Bought. Remaining Gold: {kwargs[keys[0]]}')\n",
    "        else:\n",
    "            print('Not Enough Gold')\n",
    "\n",
    "kwargs_example(current_gold = 1000, sun_rune = 250, moon_rune = 450)"
   ]
  },
  {
   "cell_type": "markdown",
   "metadata": {},
   "source": [
    "Gördüğümüz gibi \\*\\*kwargs, argümanları bir sözlüğe paketleyerek rastgele sayıda anahtar kelime argümanı sağlamaya izin verir. Python'daki \\*\\*kwargs hakkında bilmemiz gereken tek şey bu. Gelecekteki fonksiyonlarınızı esnek ve istikrarlı hale getirmenize yardımcı olacaktır."
   ]
  },
  {
   "cell_type": "markdown",
   "metadata": {},
   "source": [
    "### <a id=\"8.3\">8.3 Bu Bölümün Anahtar Noktaları</a>\n",
    "\n",
    "- \\*args **konumsal** argümanlar, \\*\\*kwargs **anahtar kelime** argümanları içindir;\n",
    "- \\*args ve \\*\\*kwargs **keyfi** sayıda argüman sağlamaya izin verir;\n",
    "- Bir fonksiyonun **argümanları ve parametreleri** birbirlerinden **farklı terimlerdir;**\n",
    "- \\*args konumsal değişkenleri bir **çokuz** içine toplar, \\*\\*kwargs ise bir **sözlük;** içine toplar.\n",
    "- Tek bir fonksiyon için **birkaç \\*args ve \\*\\*kwargs** sağlamak imkansızdır çünkü argümanları aralarında nasıl ayıracağımız açık değildir;\n",
    "- Konumsal argümanlar şu sırayı izler: (**birinci - konum, sonra anahtar kelime argümanları**)"
   ]
  },
  {
   "cell_type": "markdown",
   "metadata": {
    "papermill": {
     "duration": 0.11568,
     "end_time": "2020-10-27T06:56:12.686940",
     "exception": false,
     "start_time": "2020-10-27T06:56:12.571260",
     "status": "completed"
    },
    "tags": []
   },
   "source": [
    "### <a id=\"9.a\"><a id=\"9\">9. Bezeyiciler</a></a>\n",
    "\n",
    "**Statik ve sınıf** metotlarıyla uğraşırken bezeyicileri zaten iş başında gördük ve NTP'deki harika yolculuğumuzu bitirmeden önce en azından temel bilgileri ele almamız gerekiyor. Bezeyiciler NTP paradigması ile ilgili değildir, onlar **fonksiyonel programlama** alanından gelirler (bu, bir programın yalnızca fonksiyonları uygulayarak inşa edildiği başka bir programlama paradigmasıdır). Fonksiyonel paradigmada fonksiyonlar **birinci-sınıf (first-class) fonksiyonlardır.** Birinci sınıf fonksiyonlar yalnızca daha esnektir ve aşağıdaki **özelliklere (properties)** sahiptir:\n",
    "\n",
    "- Fonksiyonlar değişkenlere kaydedilebilir; \n",
    "- Fonksiyonlar, diğer fonksiyonların içinde tanımlanabilir (fonksiyon yerleştirme);\n",
    "- Fonksiyonlar, başka bir fonksiyona veya fonksiyonlara bağımsız değişken olarak aktarılabilir\n",
    "\n",
    "### <a id=\"9.1\">9.1 Bezeyici Nedir?</a>\n",
    "\n",
    "Bezeyici, argüman olarak başka bir fonksiyonu alan ve herhangi bir kod satırını değiştirmeden çalışma mantığını değiştiren veya genişleten bir fonksiyondur. \n",
    "\n",
    "Dekoratörler şunlara uygulanabilir:\n",
    "\n",
    "- Sınıflar (bu durumda, dekoratör bir sınıfı argüman olarak alır. Ancak, **bir sınıfa dekoratör uygulamak sınıf yöntemlerini etkilemez**)\n",
    "- Metotlar (bir yöntemi bağımsız değişken olarak alır)\n",
    "\n",
    "İşlev mantığı, bir dekoratörde yer alan başka bir işlevin yardımıyla genişletilebilir, buna **ezici(sarmalayıcı-wrapper)** denir. Ezici, dekore edilmiş işlevi yürütür ve davranışını genişletir. Bu noktadan sonra, öncelikle başka bir terim olan **kapanış(closure)** ile yüzleşmelisiniz.\n",
    "\n",
    "\n",
    "### <a id=\"9.2\">9.2 Kapanış(closure) Nedir?</a>\n",
    "\n",
    "Kapanış, iç içe geçmiş bir işlevin en dıştaki işlevin argümanlarına erişimi olduğu zamandır. Aşağıdaki örneğe bir göz atalım:"
   ]
  },
  {
   "cell_type": "code",
   "execution_count": 3,
   "metadata": {
    "execution": {
     "iopub.execute_input": "2020-10-27T06:56:12.927234Z",
     "iopub.status.busy": "2020-10-27T06:56:12.926157Z",
     "iopub.status.idle": "2020-10-27T06:56:12.929953Z",
     "shell.execute_reply": "2020-10-27T06:56:12.929177Z"
    },
    "papermill": {
     "duration": 0.126819,
     "end_time": "2020-10-27T06:56:12.930085",
     "exception": false,
     "start_time": "2020-10-27T06:56:12.803266",
     "status": "completed"
    },
    "tags": []
   },
   "outputs": [],
   "source": [
    "# For simplicity, let's define only one method with a nested function\n",
    "# A method for buying something in the game \n",
    "def buy_item(price): # this is the enclosing function\n",
    "    current_gold = 1000\n",
    "    def substract_gold(): # this is the nested function\n",
    "        if current_gold >= price:\n",
    "            remaining_gold = current_gold - price\n",
    "            return print('Remaining Gold: ', remaining_gold)\n",
    "        else:\n",
    "            return 'Not Enough Gold'\n",
    "    return substract_gold"
   ]
  },
  {
   "cell_type": "markdown",
   "metadata": {
    "papermill": {
     "duration": 0.117523,
     "end_time": "2020-10-27T06:56:13.164811",
     "exception": false,
     "start_time": "2020-10-27T06:56:13.047288",
     "status": "completed"
    },
    "tags": []
   },
   "source": [
    "Yukarıda yuvalanmış bir işlevi oluşturduk ve kapatma işlemini uyguladık. **substract_gold()** fonksiyonunun ana fonksiyon **buy_item ()** ın tüm değişkenlerine erişimi vardır \n",
    "\n",
    "Fonksiyonu çalıştıralım:"
   ]
  },
  {
   "cell_type": "code",
   "execution_count": 4,
   "metadata": {
    "execution": {
     "iopub.execute_input": "2020-10-27T06:56:13.406134Z",
     "iopub.status.busy": "2020-10-27T06:56:13.405207Z",
     "iopub.status.idle": "2020-10-27T06:56:13.409867Z",
     "shell.execute_reply": "2020-10-27T06:56:13.409263Z"
    },
    "papermill": {
     "duration": 0.126576,
     "end_time": "2020-10-27T06:56:13.410032",
     "exception": false,
     "start_time": "2020-10-27T06:56:13.283456",
     "status": "completed"
    },
    "tags": []
   },
   "outputs": [
    {
     "data": {
      "text/plain": [
       "<function __main__.buy_item.<locals>.substract_gold()>"
      ]
     },
     "execution_count": 4,
     "metadata": {},
     "output_type": "execute_result"
    }
   ],
   "source": [
    "# Bought something that costed 50 gold coins\n",
    "buy_item(50)"
   ]
  },
  {
   "cell_type": "markdown",
   "metadata": {
    "papermill": {
     "duration": 0.118187,
     "end_time": "2020-10-27T06:56:13.646804",
     "exception": false,
     "start_time": "2020-10-27T06:56:13.528617",
     "status": "completed"
    },
    "tags": []
   },
   "source": [
    "**buy_item(50)** çağrısının yalnızca iç işlevin adresini almaya yol açtığını görebiliriz. Bunun nedeni, **buy_item()** işlevinin yalnızca **substract_gold()** işlevine bir başvuru döndürmesidir. Fonksiyonu çalıştırmak için **substract_gold** fonksiyonunu parantez ile yazmalıyız: **remaining_gold()** ... ama buna ihtiyacımız yok.\n",
    "\n",
    "Fonksiyonun sonucunu bir değişkene atayalım:"
   ]
  },
  {
   "cell_type": "code",
   "execution_count": 5,
   "metadata": {
    "execution": {
     "iopub.execute_input": "2020-10-27T06:56:13.911823Z",
     "iopub.status.busy": "2020-10-27T06:56:13.910673Z",
     "iopub.status.idle": "2020-10-27T06:56:13.914465Z",
     "shell.execute_reply": "2020-10-27T06:56:13.915295Z"
    },
    "papermill": {
     "duration": 0.139726,
     "end_time": "2020-10-27T06:56:13.915507",
     "exception": false,
     "start_time": "2020-10-27T06:56:13.775781",
     "status": "completed"
    },
    "tags": []
   },
   "outputs": [
    {
     "name": "stdout",
     "output_type": "stream",
     "text": [
      "Remaining Gold:  950\n"
     ]
    }
   ],
   "source": [
    "# func_res keeps the result of buy_item() function which is a reference to the nested function \n",
    "func_res = buy_item(50) \n",
    "\n",
    "# Now variable func_res is a function and we can execute it. Let's try\n",
    "func_res()"
   ]
  },
  {
   "cell_type": "code",
   "execution_count": 6,
   "metadata": {
    "execution": {
     "iopub.execute_input": "2020-10-27T06:56:14.190116Z",
     "iopub.status.busy": "2020-10-27T06:56:14.189093Z",
     "iopub.status.idle": "2020-10-27T06:56:14.193823Z",
     "shell.execute_reply": "2020-10-27T06:56:14.194630Z"
    },
    "papermill": {
     "duration": 0.134262,
     "end_time": "2020-10-27T06:56:14.194851",
     "exception": false,
     "start_time": "2020-10-27T06:56:14.060589",
     "status": "completed"
    },
    "tags": []
   },
   "outputs": [
    {
     "name": "stdout",
     "output_type": "stream",
     "text": [
      "Remaining Gold:  950\n"
     ]
    }
   ],
   "source": [
    "# Actually, this option is also possible. \n",
    "# First, get a reference to the nested function (first parenthesis) \n",
    "# Then execute it (the second parenthesis)\n",
    "buy_item(50)()"
   ]
  },
  {
   "cell_type": "markdown",
   "metadata": {},
   "source": [
    "Muhtemelen **kapanışlar** hakkında bilmeniz gereken tek şey budur ve şimdi özellikle **ezici** işlevi ile dekoratörlerle kolayca ilerleyebiliriz."
   ]
  }
 ],
 "metadata": {
  "kernelspec": {
   "display_name": "Python 3",
   "language": "python",
   "name": "python3"
  },
  "language_info": {
   "codemirror_mode": {
    "name": "ipython",
    "version": 3
   },
   "file_extension": ".py",
   "mimetype": "text/x-python",
   "name": "python",
   "nbconvert_exporter": "python",
   "pygments_lexer": "ipython3",
   "version": "3.7.1"
  }
 },
 "nbformat": 4,
 "nbformat_minor": 4
}
